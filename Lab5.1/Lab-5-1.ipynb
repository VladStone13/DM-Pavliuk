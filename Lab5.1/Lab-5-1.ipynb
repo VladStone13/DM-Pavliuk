{
 "cells": [
  {
   "cell_type": "markdown",
   "metadata": {},
   "source": [
    "# Технології ETL з бібліотекою `scikit-learn`"
   ]
  },
  {
   "cell_type": "markdown",
   "metadata": {
    "heading_collapsed": true
   },
   "source": [
    "## УВЕДЕННЯ В SCIKIT-LEARN"
   ]
  },
  {
   "cell_type": "markdown",
   "metadata": {
    "heading_collapsed": true,
    "hidden": true
   },
   "source": [
    "### Загальна інформація"
   ]
  },
  {
   "cell_type": "markdown",
   "metadata": {
    "hidden": true
   },
   "source": [
    "Розроблено для побудови та аналізу класичних моделей машинного навчання [(Докладніше)](https://en.wikipedia.org/wiki/Scikit-learn)\n",
    "- [Офіційний сайт](https://scikit-learn.org/stable/)\n",
    "- [Сайт на GitHub](https://github.com/scikit-learn/scikit-learn)\n",
    "\n",
    "Альтернативи:\n",
    "- [Tensorflow](https://www.tensorflow.org)\n",
    "- [Pytorch](https://pytorch.org)\n",
    "- [Keras](https://keras.io) ...\n",
    "\n",
    "Доступна через [API](https://scikit-learn.org/stable/modules/classes.html#) з мови Python (або С/С++)"
   ]
  },
  {
   "cell_type": "markdown",
   "metadata": {
    "hidden": true
   },
   "source": [
    "### Інструментарій для роботи з данними"
   ]
  },
  {
   "cell_type": "markdown",
   "metadata": {
    "hidden": true
   },
   "source": [
    "Має потужні інструменти для [Data Transformation](https://scikit-learn.org/stable/data_transforms.html#data-transforms)\n",
    "\n",
    "Автоматизують наступні функції\n",
    "- [очищення](https://scikit-learn.org/stable/modules/unsupervised_reduction.html)\n",
    "- [вилучення](https://scikit-learn.org/stable/modules/feature_extraction.html)\n",
    "- [збагачення](https://scikit-learn.org/stable/modules/impute.html)\n",
    "- [предобробка](https://scikit-learn.org/stable/modules/preprocessing.html)\n",
    "\n",
    "Для інтеграції цих (та інших) процесів передбачена [`конвереїзація`](https://scikit-learn.org/stable/modules/compose.html)\n"
   ]
  },
  {
   "cell_type": "markdown",
   "metadata": {
    "heading_collapsed": true
   },
   "source": [
    "## ТЕОРЕТИЧНА ЧАСТИНА ТА ПРИКЛАДИ"
   ]
  },
  {
   "cell_type": "markdown",
   "metadata": {
    "hidden": true
   },
   "source": [
    "### для проведення експеріментів та перевірки гіпотез в `scilearn` є модуль моделювання датасетів [sklearn.datasets](https://scikit-learn.org/stable/modules/classes.html#module-sklearn.datasets)"
   ]
  },
  {
   "cell_type": "code",
   "execution_count": 1,
   "metadata": {
    "hidden": true
   },
   "outputs": [],
   "source": [
    "from sklearn import datasets\n",
    "import pandas as pd\n",
    "import numpy as np"
   ]
  },
  {
   "cell_type": "code",
   "execution_count": 2,
   "metadata": {
    "hidden": true
   },
   "outputs": [],
   "source": [
    "wine_bunch = datasets.load_wine(as_frame=True)"
   ]
  },
  {
   "cell_type": "code",
   "execution_count": 3,
   "metadata": {
    "hidden": true
   },
   "outputs": [],
   "source": [
    "df = wine_bunch['frame']"
   ]
  },
  {
   "cell_type": "code",
   "execution_count": 4,
   "metadata": {
    "hidden": true
   },
   "outputs": [
    {
     "data": {
      "text/html": [
       "<div>\n",
       "<style scoped>\n",
       "    .dataframe tbody tr th:only-of-type {\n",
       "        vertical-align: middle;\n",
       "    }\n",
       "\n",
       "    .dataframe tbody tr th {\n",
       "        vertical-align: top;\n",
       "    }\n",
       "\n",
       "    .dataframe thead th {\n",
       "        text-align: right;\n",
       "    }\n",
       "</style>\n",
       "<table border=\"1\" class=\"dataframe\">\n",
       "  <thead>\n",
       "    <tr style=\"text-align: right;\">\n",
       "      <th></th>\n",
       "      <th>alcohol</th>\n",
       "      <th>malic_acid</th>\n",
       "      <th>ash</th>\n",
       "      <th>alcalinity_of_ash</th>\n",
       "      <th>magnesium</th>\n",
       "      <th>total_phenols</th>\n",
       "      <th>flavanoids</th>\n",
       "      <th>nonflavanoid_phenols</th>\n",
       "      <th>proanthocyanins</th>\n",
       "      <th>color_intensity</th>\n",
       "      <th>hue</th>\n",
       "      <th>od280/od315_of_diluted_wines</th>\n",
       "      <th>proline</th>\n",
       "      <th>target</th>\n",
       "    </tr>\n",
       "  </thead>\n",
       "  <tbody>\n",
       "    <tr>\n",
       "      <th>0</th>\n",
       "      <td>14.23</td>\n",
       "      <td>1.71</td>\n",
       "      <td>2.43</td>\n",
       "      <td>15.6</td>\n",
       "      <td>127.0</td>\n",
       "      <td>2.80</td>\n",
       "      <td>3.06</td>\n",
       "      <td>0.28</td>\n",
       "      <td>2.29</td>\n",
       "      <td>5.64</td>\n",
       "      <td>1.04</td>\n",
       "      <td>3.92</td>\n",
       "      <td>1065.0</td>\n",
       "      <td>0</td>\n",
       "    </tr>\n",
       "    <tr>\n",
       "      <th>1</th>\n",
       "      <td>13.20</td>\n",
       "      <td>1.78</td>\n",
       "      <td>2.14</td>\n",
       "      <td>11.2</td>\n",
       "      <td>100.0</td>\n",
       "      <td>2.65</td>\n",
       "      <td>2.76</td>\n",
       "      <td>0.26</td>\n",
       "      <td>1.28</td>\n",
       "      <td>4.38</td>\n",
       "      <td>1.05</td>\n",
       "      <td>3.40</td>\n",
       "      <td>1050.0</td>\n",
       "      <td>0</td>\n",
       "    </tr>\n",
       "    <tr>\n",
       "      <th>2</th>\n",
       "      <td>13.16</td>\n",
       "      <td>2.36</td>\n",
       "      <td>2.67</td>\n",
       "      <td>18.6</td>\n",
       "      <td>101.0</td>\n",
       "      <td>2.80</td>\n",
       "      <td>3.24</td>\n",
       "      <td>0.30</td>\n",
       "      <td>2.81</td>\n",
       "      <td>5.68</td>\n",
       "      <td>1.03</td>\n",
       "      <td>3.17</td>\n",
       "      <td>1185.0</td>\n",
       "      <td>0</td>\n",
       "    </tr>\n",
       "    <tr>\n",
       "      <th>3</th>\n",
       "      <td>14.37</td>\n",
       "      <td>1.95</td>\n",
       "      <td>2.50</td>\n",
       "      <td>16.8</td>\n",
       "      <td>113.0</td>\n",
       "      <td>3.85</td>\n",
       "      <td>3.49</td>\n",
       "      <td>0.24</td>\n",
       "      <td>2.18</td>\n",
       "      <td>7.80</td>\n",
       "      <td>0.86</td>\n",
       "      <td>3.45</td>\n",
       "      <td>1480.0</td>\n",
       "      <td>0</td>\n",
       "    </tr>\n",
       "    <tr>\n",
       "      <th>4</th>\n",
       "      <td>13.24</td>\n",
       "      <td>2.59</td>\n",
       "      <td>2.87</td>\n",
       "      <td>21.0</td>\n",
       "      <td>118.0</td>\n",
       "      <td>2.80</td>\n",
       "      <td>2.69</td>\n",
       "      <td>0.39</td>\n",
       "      <td>1.82</td>\n",
       "      <td>4.32</td>\n",
       "      <td>1.04</td>\n",
       "      <td>2.93</td>\n",
       "      <td>735.0</td>\n",
       "      <td>0</td>\n",
       "    </tr>\n",
       "  </tbody>\n",
       "</table>\n",
       "</div>"
      ],
      "text/plain": [
       "   alcohol  malic_acid   ash  alcalinity_of_ash  magnesium  total_phenols  \\\n",
       "0    14.23        1.71  2.43               15.6      127.0           2.80   \n",
       "1    13.20        1.78  2.14               11.2      100.0           2.65   \n",
       "2    13.16        2.36  2.67               18.6      101.0           2.80   \n",
       "3    14.37        1.95  2.50               16.8      113.0           3.85   \n",
       "4    13.24        2.59  2.87               21.0      118.0           2.80   \n",
       "\n",
       "   flavanoids  nonflavanoid_phenols  proanthocyanins  color_intensity   hue  \\\n",
       "0        3.06                  0.28             2.29             5.64  1.04   \n",
       "1        2.76                  0.26             1.28             4.38  1.05   \n",
       "2        3.24                  0.30             2.81             5.68  1.03   \n",
       "3        3.49                  0.24             2.18             7.80  0.86   \n",
       "4        2.69                  0.39             1.82             4.32  1.04   \n",
       "\n",
       "   od280/od315_of_diluted_wines  proline  target  \n",
       "0                          3.92   1065.0       0  \n",
       "1                          3.40   1050.0       0  \n",
       "2                          3.17   1185.0       0  \n",
       "3                          3.45   1480.0       0  \n",
       "4                          2.93    735.0       0  "
      ]
     },
     "execution_count": 4,
     "metadata": {},
     "output_type": "execute_result"
    }
   ],
   "source": [
    "df.head()"
   ]
  },
  {
   "cell_type": "code",
   "execution_count": 5,
   "metadata": {
    "hidden": true
   },
   "outputs": [
    {
     "data": {
      "text/html": [
       "<div>\n",
       "<style scoped>\n",
       "    .dataframe tbody tr th:only-of-type {\n",
       "        vertical-align: middle;\n",
       "    }\n",
       "\n",
       "    .dataframe tbody tr th {\n",
       "        vertical-align: top;\n",
       "    }\n",
       "\n",
       "    .dataframe thead th {\n",
       "        text-align: right;\n",
       "    }\n",
       "</style>\n",
       "<table border=\"1\" class=\"dataframe\">\n",
       "  <thead>\n",
       "    <tr style=\"text-align: right;\">\n",
       "      <th></th>\n",
       "      <th>alcohol</th>\n",
       "      <th>malic_acid</th>\n",
       "      <th>ash</th>\n",
       "      <th>alcalinity_of_ash</th>\n",
       "      <th>magnesium</th>\n",
       "      <th>total_phenols</th>\n",
       "      <th>flavanoids</th>\n",
       "      <th>nonflavanoid_phenols</th>\n",
       "      <th>proanthocyanins</th>\n",
       "      <th>color_intensity</th>\n",
       "      <th>hue</th>\n",
       "      <th>od280/od315_of_diluted_wines</th>\n",
       "      <th>proline</th>\n",
       "      <th>target</th>\n",
       "    </tr>\n",
       "  </thead>\n",
       "  <tbody>\n",
       "    <tr>\n",
       "      <th>count</th>\n",
       "      <td>178.000000</td>\n",
       "      <td>178.000000</td>\n",
       "      <td>178.000000</td>\n",
       "      <td>178.000000</td>\n",
       "      <td>178.000000</td>\n",
       "      <td>178.000000</td>\n",
       "      <td>178.000000</td>\n",
       "      <td>178.000000</td>\n",
       "      <td>178.000000</td>\n",
       "      <td>178.000000</td>\n",
       "      <td>178.000000</td>\n",
       "      <td>178.000000</td>\n",
       "      <td>178.000000</td>\n",
       "      <td>178.000000</td>\n",
       "    </tr>\n",
       "    <tr>\n",
       "      <th>mean</th>\n",
       "      <td>13.000618</td>\n",
       "      <td>2.336348</td>\n",
       "      <td>2.366517</td>\n",
       "      <td>19.494944</td>\n",
       "      <td>99.741573</td>\n",
       "      <td>2.295112</td>\n",
       "      <td>2.029270</td>\n",
       "      <td>0.361854</td>\n",
       "      <td>1.590899</td>\n",
       "      <td>5.058090</td>\n",
       "      <td>0.957449</td>\n",
       "      <td>2.611685</td>\n",
       "      <td>746.893258</td>\n",
       "      <td>0.938202</td>\n",
       "    </tr>\n",
       "    <tr>\n",
       "      <th>std</th>\n",
       "      <td>0.811827</td>\n",
       "      <td>1.117146</td>\n",
       "      <td>0.274344</td>\n",
       "      <td>3.339564</td>\n",
       "      <td>14.282484</td>\n",
       "      <td>0.625851</td>\n",
       "      <td>0.998859</td>\n",
       "      <td>0.124453</td>\n",
       "      <td>0.572359</td>\n",
       "      <td>2.318286</td>\n",
       "      <td>0.228572</td>\n",
       "      <td>0.709990</td>\n",
       "      <td>314.907474</td>\n",
       "      <td>0.775035</td>\n",
       "    </tr>\n",
       "    <tr>\n",
       "      <th>min</th>\n",
       "      <td>11.030000</td>\n",
       "      <td>0.740000</td>\n",
       "      <td>1.360000</td>\n",
       "      <td>10.600000</td>\n",
       "      <td>70.000000</td>\n",
       "      <td>0.980000</td>\n",
       "      <td>0.340000</td>\n",
       "      <td>0.130000</td>\n",
       "      <td>0.410000</td>\n",
       "      <td>1.280000</td>\n",
       "      <td>0.480000</td>\n",
       "      <td>1.270000</td>\n",
       "      <td>278.000000</td>\n",
       "      <td>0.000000</td>\n",
       "    </tr>\n",
       "    <tr>\n",
       "      <th>25%</th>\n",
       "      <td>12.362500</td>\n",
       "      <td>1.602500</td>\n",
       "      <td>2.210000</td>\n",
       "      <td>17.200000</td>\n",
       "      <td>88.000000</td>\n",
       "      <td>1.742500</td>\n",
       "      <td>1.205000</td>\n",
       "      <td>0.270000</td>\n",
       "      <td>1.250000</td>\n",
       "      <td>3.220000</td>\n",
       "      <td>0.782500</td>\n",
       "      <td>1.937500</td>\n",
       "      <td>500.500000</td>\n",
       "      <td>0.000000</td>\n",
       "    </tr>\n",
       "    <tr>\n",
       "      <th>50%</th>\n",
       "      <td>13.050000</td>\n",
       "      <td>1.865000</td>\n",
       "      <td>2.360000</td>\n",
       "      <td>19.500000</td>\n",
       "      <td>98.000000</td>\n",
       "      <td>2.355000</td>\n",
       "      <td>2.135000</td>\n",
       "      <td>0.340000</td>\n",
       "      <td>1.555000</td>\n",
       "      <td>4.690000</td>\n",
       "      <td>0.965000</td>\n",
       "      <td>2.780000</td>\n",
       "      <td>673.500000</td>\n",
       "      <td>1.000000</td>\n",
       "    </tr>\n",
       "    <tr>\n",
       "      <th>75%</th>\n",
       "      <td>13.677500</td>\n",
       "      <td>3.082500</td>\n",
       "      <td>2.557500</td>\n",
       "      <td>21.500000</td>\n",
       "      <td>107.000000</td>\n",
       "      <td>2.800000</td>\n",
       "      <td>2.875000</td>\n",
       "      <td>0.437500</td>\n",
       "      <td>1.950000</td>\n",
       "      <td>6.200000</td>\n",
       "      <td>1.120000</td>\n",
       "      <td>3.170000</td>\n",
       "      <td>985.000000</td>\n",
       "      <td>2.000000</td>\n",
       "    </tr>\n",
       "    <tr>\n",
       "      <th>max</th>\n",
       "      <td>14.830000</td>\n",
       "      <td>5.800000</td>\n",
       "      <td>3.230000</td>\n",
       "      <td>30.000000</td>\n",
       "      <td>162.000000</td>\n",
       "      <td>3.880000</td>\n",
       "      <td>5.080000</td>\n",
       "      <td>0.660000</td>\n",
       "      <td>3.580000</td>\n",
       "      <td>13.000000</td>\n",
       "      <td>1.710000</td>\n",
       "      <td>4.000000</td>\n",
       "      <td>1680.000000</td>\n",
       "      <td>2.000000</td>\n",
       "    </tr>\n",
       "  </tbody>\n",
       "</table>\n",
       "</div>"
      ],
      "text/plain": [
       "          alcohol  malic_acid         ash  alcalinity_of_ash   magnesium  \\\n",
       "count  178.000000  178.000000  178.000000         178.000000  178.000000   \n",
       "mean    13.000618    2.336348    2.366517          19.494944   99.741573   \n",
       "std      0.811827    1.117146    0.274344           3.339564   14.282484   \n",
       "min     11.030000    0.740000    1.360000          10.600000   70.000000   \n",
       "25%     12.362500    1.602500    2.210000          17.200000   88.000000   \n",
       "50%     13.050000    1.865000    2.360000          19.500000   98.000000   \n",
       "75%     13.677500    3.082500    2.557500          21.500000  107.000000   \n",
       "max     14.830000    5.800000    3.230000          30.000000  162.000000   \n",
       "\n",
       "       total_phenols  flavanoids  nonflavanoid_phenols  proanthocyanins  \\\n",
       "count     178.000000  178.000000            178.000000       178.000000   \n",
       "mean        2.295112    2.029270              0.361854         1.590899   \n",
       "std         0.625851    0.998859              0.124453         0.572359   \n",
       "min         0.980000    0.340000              0.130000         0.410000   \n",
       "25%         1.742500    1.205000              0.270000         1.250000   \n",
       "50%         2.355000    2.135000              0.340000         1.555000   \n",
       "75%         2.800000    2.875000              0.437500         1.950000   \n",
       "max         3.880000    5.080000              0.660000         3.580000   \n",
       "\n",
       "       color_intensity         hue  od280/od315_of_diluted_wines      proline  \\\n",
       "count       178.000000  178.000000                    178.000000   178.000000   \n",
       "mean          5.058090    0.957449                      2.611685   746.893258   \n",
       "std           2.318286    0.228572                      0.709990   314.907474   \n",
       "min           1.280000    0.480000                      1.270000   278.000000   \n",
       "25%           3.220000    0.782500                      1.937500   500.500000   \n",
       "50%           4.690000    0.965000                      2.780000   673.500000   \n",
       "75%           6.200000    1.120000                      3.170000   985.000000   \n",
       "max          13.000000    1.710000                      4.000000  1680.000000   \n",
       "\n",
       "           target  \n",
       "count  178.000000  \n",
       "mean     0.938202  \n",
       "std      0.775035  \n",
       "min      0.000000  \n",
       "25%      0.000000  \n",
       "50%      1.000000  \n",
       "75%      2.000000  \n",
       "max      2.000000  "
      ]
     },
     "execution_count": 5,
     "metadata": {},
     "output_type": "execute_result"
    }
   ],
   "source": [
    "df.describe()"
   ]
  },
  {
   "cell_type": "code",
   "execution_count": 6,
   "metadata": {
    "hidden": true
   },
   "outputs": [],
   "source": [
    "df.loc[df['target'] == 0,'target'] = 'west'\n",
    "df.loc[df['target'] == 1,'target'] = 'east'\n",
    "df.loc[df['target'] == 2,'target'] = 'nord'"
   ]
  },
  {
   "cell_type": "code",
   "execution_count": 7,
   "metadata": {
    "hidden": true
   },
   "outputs": [
    {
     "data": {
      "text/plain": [
       "array(['west', 'east', 'nord'], dtype=object)"
      ]
     },
     "execution_count": 7,
     "metadata": {},
     "output_type": "execute_result"
    }
   ],
   "source": [
    "df['target'].unique()"
   ]
  },
  {
   "cell_type": "code",
   "execution_count": 8,
   "metadata": {
    "hidden": true
   },
   "outputs": [
    {
     "data": {
      "text/plain": [
       "Index(['alcohol', 'malic_acid', 'ash', 'alcalinity_of_ash', 'magnesium',\n",
       "       'total_phenols', 'flavanoids', 'nonflavanoid_phenols',\n",
       "       'proanthocyanins', 'color_intensity', 'hue',\n",
       "       'od280/od315_of_diluted_wines', 'proline', 'region'],\n",
       "      dtype='object')"
      ]
     },
     "execution_count": 8,
     "metadata": {},
     "output_type": "execute_result"
    }
   ],
   "source": [
    "df.rename(columns={'target': 'region'}, inplace=True)\n",
    "df.columns"
   ]
  },
  {
   "cell_type": "code",
   "execution_count": 9,
   "metadata": {
    "hidden": true
   },
   "outputs": [],
   "source": [
    "X, y = df.drop(columns=['alcohol']), df['alcohol']"
   ]
  },
  {
   "cell_type": "code",
   "execution_count": 10,
   "metadata": {
    "hidden": true
   },
   "outputs": [
    {
     "data": {
      "text/html": [
       "<div>\n",
       "<style scoped>\n",
       "    .dataframe tbody tr th:only-of-type {\n",
       "        vertical-align: middle;\n",
       "    }\n",
       "\n",
       "    .dataframe tbody tr th {\n",
       "        vertical-align: top;\n",
       "    }\n",
       "\n",
       "    .dataframe thead th {\n",
       "        text-align: right;\n",
       "    }\n",
       "</style>\n",
       "<table border=\"1\" class=\"dataframe\">\n",
       "  <thead>\n",
       "    <tr style=\"text-align: right;\">\n",
       "      <th></th>\n",
       "      <th>malic_acid</th>\n",
       "      <th>ash</th>\n",
       "      <th>alcalinity_of_ash</th>\n",
       "      <th>magnesium</th>\n",
       "      <th>total_phenols</th>\n",
       "      <th>flavanoids</th>\n",
       "      <th>nonflavanoid_phenols</th>\n",
       "      <th>proanthocyanins</th>\n",
       "      <th>color_intensity</th>\n",
       "      <th>hue</th>\n",
       "      <th>od280/od315_of_diluted_wines</th>\n",
       "      <th>proline</th>\n",
       "      <th>region</th>\n",
       "    </tr>\n",
       "  </thead>\n",
       "  <tbody>\n",
       "    <tr>\n",
       "      <th>0</th>\n",
       "      <td>1.71</td>\n",
       "      <td>2.43</td>\n",
       "      <td>15.6</td>\n",
       "      <td>127.0</td>\n",
       "      <td>2.80</td>\n",
       "      <td>3.06</td>\n",
       "      <td>0.28</td>\n",
       "      <td>2.29</td>\n",
       "      <td>5.64</td>\n",
       "      <td>1.04</td>\n",
       "      <td>3.92</td>\n",
       "      <td>1065.0</td>\n",
       "      <td>west</td>\n",
       "    </tr>\n",
       "    <tr>\n",
       "      <th>1</th>\n",
       "      <td>1.78</td>\n",
       "      <td>2.14</td>\n",
       "      <td>11.2</td>\n",
       "      <td>100.0</td>\n",
       "      <td>2.65</td>\n",
       "      <td>2.76</td>\n",
       "      <td>0.26</td>\n",
       "      <td>1.28</td>\n",
       "      <td>4.38</td>\n",
       "      <td>1.05</td>\n",
       "      <td>3.40</td>\n",
       "      <td>1050.0</td>\n",
       "      <td>west</td>\n",
       "    </tr>\n",
       "    <tr>\n",
       "      <th>2</th>\n",
       "      <td>2.36</td>\n",
       "      <td>2.67</td>\n",
       "      <td>18.6</td>\n",
       "      <td>101.0</td>\n",
       "      <td>2.80</td>\n",
       "      <td>3.24</td>\n",
       "      <td>0.30</td>\n",
       "      <td>2.81</td>\n",
       "      <td>5.68</td>\n",
       "      <td>1.03</td>\n",
       "      <td>3.17</td>\n",
       "      <td>1185.0</td>\n",
       "      <td>west</td>\n",
       "    </tr>\n",
       "  </tbody>\n",
       "</table>\n",
       "</div>"
      ],
      "text/plain": [
       "   malic_acid   ash  alcalinity_of_ash  magnesium  total_phenols  flavanoids  \\\n",
       "0        1.71  2.43               15.6      127.0           2.80        3.06   \n",
       "1        1.78  2.14               11.2      100.0           2.65        2.76   \n",
       "2        2.36  2.67               18.6      101.0           2.80        3.24   \n",
       "\n",
       "   nonflavanoid_phenols  proanthocyanins  color_intensity   hue  \\\n",
       "0                  0.28             2.29             5.64  1.04   \n",
       "1                  0.26             1.28             4.38  1.05   \n",
       "2                  0.30             2.81             5.68  1.03   \n",
       "\n",
       "   od280/od315_of_diluted_wines  proline region  \n",
       "0                          3.92   1065.0   west  \n",
       "1                          3.40   1050.0   west  \n",
       "2                          3.17   1185.0   west  "
      ]
     },
     "execution_count": 10,
     "metadata": {},
     "output_type": "execute_result"
    }
   ],
   "source": [
    "X.head(3)"
   ]
  },
  {
   "cell_type": "markdown",
   "metadata": {
    "heading_collapsed": true,
    "hidden": true
   },
   "source": [
    "### додамо синтетичний `шум' "
   ]
  },
  {
   "cell_type": "code",
   "execution_count": 11,
   "metadata": {
    "hidden": true
   },
   "outputs": [],
   "source": [
    "from add_noise import add_feauture_err"
   ]
  },
  {
   "cell_type": "code",
   "execution_count": 12,
   "metadata": {
    "hidden": true
   },
   "outputs": [],
   "source": [
    "# деякі значення можуть бути пропущені\n",
    "X = add_feauture_err(df=X, column_name='region', err_level=.05, err_filler=np.nan)\n",
    "X = add_feauture_err(df=X, column_name='color_intensity', err_level=.10, err_filler=np.nan)\n",
    "\n",
    "# або вочевидь невірні\n",
    "X = add_feauture_err(df=X, column_name='magnesium', err_level=.05, err_filler=100000.0)"
   ]
  },
  {
   "cell_type": "code",
   "execution_count": 13,
   "metadata": {
    "hidden": true
   },
   "outputs": [
    {
     "data": {
      "text/html": [
       "<div>\n",
       "<style scoped>\n",
       "    .dataframe tbody tr th:only-of-type {\n",
       "        vertical-align: middle;\n",
       "    }\n",
       "\n",
       "    .dataframe tbody tr th {\n",
       "        vertical-align: top;\n",
       "    }\n",
       "\n",
       "    .dataframe thead th {\n",
       "        text-align: right;\n",
       "    }\n",
       "</style>\n",
       "<table border=\"1\" class=\"dataframe\">\n",
       "  <thead>\n",
       "    <tr style=\"text-align: right;\">\n",
       "      <th></th>\n",
       "      <th>malic_acid</th>\n",
       "      <th>ash</th>\n",
       "      <th>alcalinity_of_ash</th>\n",
       "      <th>magnesium</th>\n",
       "      <th>total_phenols</th>\n",
       "      <th>flavanoids</th>\n",
       "      <th>nonflavanoid_phenols</th>\n",
       "      <th>proanthocyanins</th>\n",
       "      <th>color_intensity</th>\n",
       "      <th>hue</th>\n",
       "      <th>od280/od315_of_diluted_wines</th>\n",
       "      <th>proline</th>\n",
       "    </tr>\n",
       "  </thead>\n",
       "  <tbody>\n",
       "    <tr>\n",
       "      <th>count</th>\n",
       "      <td>178.000000</td>\n",
       "      <td>178.000000</td>\n",
       "      <td>178.000000</td>\n",
       "      <td>178.000000</td>\n",
       "      <td>178.000000</td>\n",
       "      <td>178.000000</td>\n",
       "      <td>178.000000</td>\n",
       "      <td>178.000000</td>\n",
       "      <td>161.000000</td>\n",
       "      <td>178.000000</td>\n",
       "      <td>178.000000</td>\n",
       "      <td>178.000000</td>\n",
       "    </tr>\n",
       "    <tr>\n",
       "      <th>mean</th>\n",
       "      <td>2.336348</td>\n",
       "      <td>2.366517</td>\n",
       "      <td>19.494944</td>\n",
       "      <td>5150.825843</td>\n",
       "      <td>2.295112</td>\n",
       "      <td>2.029270</td>\n",
       "      <td>0.361854</td>\n",
       "      <td>1.590899</td>\n",
       "      <td>5.033789</td>\n",
       "      <td>0.957449</td>\n",
       "      <td>2.611685</td>\n",
       "      <td>746.893258</td>\n",
       "    </tr>\n",
       "    <tr>\n",
       "      <th>std</th>\n",
       "      <td>1.117146</td>\n",
       "      <td>0.274344</td>\n",
       "      <td>3.339564</td>\n",
       "      <td>21950.019518</td>\n",
       "      <td>0.625851</td>\n",
       "      <td>0.998859</td>\n",
       "      <td>0.124453</td>\n",
       "      <td>0.572359</td>\n",
       "      <td>2.337514</td>\n",
       "      <td>0.228572</td>\n",
       "      <td>0.709990</td>\n",
       "      <td>314.907474</td>\n",
       "    </tr>\n",
       "    <tr>\n",
       "      <th>min</th>\n",
       "      <td>0.740000</td>\n",
       "      <td>1.360000</td>\n",
       "      <td>10.600000</td>\n",
       "      <td>70.000000</td>\n",
       "      <td>0.980000</td>\n",
       "      <td>0.340000</td>\n",
       "      <td>0.130000</td>\n",
       "      <td>0.410000</td>\n",
       "      <td>1.280000</td>\n",
       "      <td>0.480000</td>\n",
       "      <td>1.270000</td>\n",
       "      <td>278.000000</td>\n",
       "    </tr>\n",
       "    <tr>\n",
       "      <th>25%</th>\n",
       "      <td>1.602500</td>\n",
       "      <td>2.210000</td>\n",
       "      <td>17.200000</td>\n",
       "      <td>88.250000</td>\n",
       "      <td>1.742500</td>\n",
       "      <td>1.205000</td>\n",
       "      <td>0.270000</td>\n",
       "      <td>1.250000</td>\n",
       "      <td>3.210000</td>\n",
       "      <td>0.782500</td>\n",
       "      <td>1.937500</td>\n",
       "      <td>500.500000</td>\n",
       "    </tr>\n",
       "    <tr>\n",
       "      <th>50%</th>\n",
       "      <td>1.865000</td>\n",
       "      <td>2.360000</td>\n",
       "      <td>19.500000</td>\n",
       "      <td>98.000000</td>\n",
       "      <td>2.355000</td>\n",
       "      <td>2.135000</td>\n",
       "      <td>0.340000</td>\n",
       "      <td>1.555000</td>\n",
       "      <td>4.600000</td>\n",
       "      <td>0.965000</td>\n",
       "      <td>2.780000</td>\n",
       "      <td>673.500000</td>\n",
       "    </tr>\n",
       "    <tr>\n",
       "      <th>75%</th>\n",
       "      <td>3.082500</td>\n",
       "      <td>2.557500</td>\n",
       "      <td>21.500000</td>\n",
       "      <td>110.000000</td>\n",
       "      <td>2.800000</td>\n",
       "      <td>2.875000</td>\n",
       "      <td>0.437500</td>\n",
       "      <td>1.950000</td>\n",
       "      <td>6.100000</td>\n",
       "      <td>1.120000</td>\n",
       "      <td>3.170000</td>\n",
       "      <td>985.000000</td>\n",
       "    </tr>\n",
       "    <tr>\n",
       "      <th>max</th>\n",
       "      <td>5.800000</td>\n",
       "      <td>3.230000</td>\n",
       "      <td>30.000000</td>\n",
       "      <td>100000.000000</td>\n",
       "      <td>3.880000</td>\n",
       "      <td>5.080000</td>\n",
       "      <td>0.660000</td>\n",
       "      <td>3.580000</td>\n",
       "      <td>13.000000</td>\n",
       "      <td>1.710000</td>\n",
       "      <td>4.000000</td>\n",
       "      <td>1680.000000</td>\n",
       "    </tr>\n",
       "  </tbody>\n",
       "</table>\n",
       "</div>"
      ],
      "text/plain": [
       "       malic_acid         ash  alcalinity_of_ash      magnesium  \\\n",
       "count  178.000000  178.000000         178.000000     178.000000   \n",
       "mean     2.336348    2.366517          19.494944    5150.825843   \n",
       "std      1.117146    0.274344           3.339564   21950.019518   \n",
       "min      0.740000    1.360000          10.600000      70.000000   \n",
       "25%      1.602500    2.210000          17.200000      88.250000   \n",
       "50%      1.865000    2.360000          19.500000      98.000000   \n",
       "75%      3.082500    2.557500          21.500000     110.000000   \n",
       "max      5.800000    3.230000          30.000000  100000.000000   \n",
       "\n",
       "       total_phenols  flavanoids  nonflavanoid_phenols  proanthocyanins  \\\n",
       "count     178.000000  178.000000            178.000000       178.000000   \n",
       "mean        2.295112    2.029270              0.361854         1.590899   \n",
       "std         0.625851    0.998859              0.124453         0.572359   \n",
       "min         0.980000    0.340000              0.130000         0.410000   \n",
       "25%         1.742500    1.205000              0.270000         1.250000   \n",
       "50%         2.355000    2.135000              0.340000         1.555000   \n",
       "75%         2.800000    2.875000              0.437500         1.950000   \n",
       "max         3.880000    5.080000              0.660000         3.580000   \n",
       "\n",
       "       color_intensity         hue  od280/od315_of_diluted_wines      proline  \n",
       "count       161.000000  178.000000                    178.000000   178.000000  \n",
       "mean          5.033789    0.957449                      2.611685   746.893258  \n",
       "std           2.337514    0.228572                      0.709990   314.907474  \n",
       "min           1.280000    0.480000                      1.270000   278.000000  \n",
       "25%           3.210000    0.782500                      1.937500   500.500000  \n",
       "50%           4.600000    0.965000                      2.780000   673.500000  \n",
       "75%           6.100000    1.120000                      3.170000   985.000000  \n",
       "max          13.000000    1.710000                      4.000000  1680.000000  "
      ]
     },
     "execution_count": 13,
     "metadata": {},
     "output_type": "execute_result"
    }
   ],
   "source": [
    "X.describe()"
   ]
  },
  {
   "cell_type": "code",
   "execution_count": 14,
   "metadata": {
    "hidden": true
   },
   "outputs": [
    {
     "name": "stdout",
     "output_type": "stream",
     "text": [
      "<class 'pandas.core.frame.DataFrame'>\n",
      "RangeIndex: 178 entries, 0 to 177\n",
      "Data columns (total 13 columns):\n",
      " #   Column                        Non-Null Count  Dtype  \n",
      "---  ------                        --------------  -----  \n",
      " 0   malic_acid                    178 non-null    float64\n",
      " 1   ash                           178 non-null    float64\n",
      " 2   alcalinity_of_ash             178 non-null    float64\n",
      " 3   magnesium                     178 non-null    float64\n",
      " 4   total_phenols                 178 non-null    float64\n",
      " 5   flavanoids                    178 non-null    float64\n",
      " 6   nonflavanoid_phenols          178 non-null    float64\n",
      " 7   proanthocyanins               178 non-null    float64\n",
      " 8   color_intensity               161 non-null    float64\n",
      " 9   hue                           178 non-null    float64\n",
      " 10  od280/od315_of_diluted_wines  178 non-null    float64\n",
      " 11  proline                       178 non-null    float64\n",
      " 12  region                        169 non-null    object \n",
      "dtypes: float64(12), object(1)\n",
      "memory usage: 18.2+ KB\n"
     ]
    }
   ],
   "source": [
    "X.info()"
   ]
  },
  {
   "cell_type": "markdown",
   "metadata": {
    "hidden": true
   },
   "source": [
    "### ПОШУК ТА ОБРОБКА ВИКИДІВ (Outliers/Anomaly Detection)"
   ]
  },
  {
   "cell_type": "markdown",
   "metadata": {
    "hidden": true
   },
   "source": [
    "В продашені та на великих об'ємах використовується алгоритм __LOF__ ([_Local Outlier Factor_](https://scikit-learn.org/stable/auto_examples/neighbors/plot_lof_outlier_detection.html))"
   ]
  },
  {
   "cell_type": "code",
   "execution_count": 15,
   "metadata": {
    "hidden": true
   },
   "outputs": [],
   "source": [
    "mean_std = X.describe().loc[['mean', 'std']].T"
   ]
  },
  {
   "cell_type": "code",
   "execution_count": 16,
   "metadata": {
    "hidden": true
   },
   "outputs": [
    {
     "data": {
      "text/html": [
       "<div>\n",
       "<style scoped>\n",
       "    .dataframe tbody tr th:only-of-type {\n",
       "        vertical-align: middle;\n",
       "    }\n",
       "\n",
       "    .dataframe tbody tr th {\n",
       "        vertical-align: top;\n",
       "    }\n",
       "\n",
       "    .dataframe thead th {\n",
       "        text-align: right;\n",
       "    }\n",
       "</style>\n",
       "<table border=\"1\" class=\"dataframe\">\n",
       "  <thead>\n",
       "    <tr style=\"text-align: right;\">\n",
       "      <th></th>\n",
       "      <th>mean</th>\n",
       "      <th>std</th>\n",
       "    </tr>\n",
       "  </thead>\n",
       "  <tbody>\n",
       "    <tr>\n",
       "      <th>malic_acid</th>\n",
       "      <td>2.336348</td>\n",
       "      <td>1.117146</td>\n",
       "    </tr>\n",
       "    <tr>\n",
       "      <th>ash</th>\n",
       "      <td>2.366517</td>\n",
       "      <td>0.274344</td>\n",
       "    </tr>\n",
       "    <tr>\n",
       "      <th>alcalinity_of_ash</th>\n",
       "      <td>19.494944</td>\n",
       "      <td>3.339564</td>\n",
       "    </tr>\n",
       "    <tr>\n",
       "      <th>magnesium</th>\n",
       "      <td>5150.825843</td>\n",
       "      <td>21950.019518</td>\n",
       "    </tr>\n",
       "    <tr>\n",
       "      <th>total_phenols</th>\n",
       "      <td>2.295112</td>\n",
       "      <td>0.625851</td>\n",
       "    </tr>\n",
       "    <tr>\n",
       "      <th>flavanoids</th>\n",
       "      <td>2.029270</td>\n",
       "      <td>0.998859</td>\n",
       "    </tr>\n",
       "    <tr>\n",
       "      <th>nonflavanoid_phenols</th>\n",
       "      <td>0.361854</td>\n",
       "      <td>0.124453</td>\n",
       "    </tr>\n",
       "    <tr>\n",
       "      <th>proanthocyanins</th>\n",
       "      <td>1.590899</td>\n",
       "      <td>0.572359</td>\n",
       "    </tr>\n",
       "    <tr>\n",
       "      <th>color_intensity</th>\n",
       "      <td>5.033789</td>\n",
       "      <td>2.337514</td>\n",
       "    </tr>\n",
       "    <tr>\n",
       "      <th>hue</th>\n",
       "      <td>0.957449</td>\n",
       "      <td>0.228572</td>\n",
       "    </tr>\n",
       "    <tr>\n",
       "      <th>od280/od315_of_diluted_wines</th>\n",
       "      <td>2.611685</td>\n",
       "      <td>0.709990</td>\n",
       "    </tr>\n",
       "    <tr>\n",
       "      <th>proline</th>\n",
       "      <td>746.893258</td>\n",
       "      <td>314.907474</td>\n",
       "    </tr>\n",
       "  </tbody>\n",
       "</table>\n",
       "</div>"
      ],
      "text/plain": [
       "                                     mean           std\n",
       "malic_acid                       2.336348      1.117146\n",
       "ash                              2.366517      0.274344\n",
       "alcalinity_of_ash               19.494944      3.339564\n",
       "magnesium                     5150.825843  21950.019518\n",
       "total_phenols                    2.295112      0.625851\n",
       "flavanoids                       2.029270      0.998859\n",
       "nonflavanoid_phenols             0.361854      0.124453\n",
       "proanthocyanins                  1.590899      0.572359\n",
       "color_intensity                  5.033789      2.337514\n",
       "hue                              0.957449      0.228572\n",
       "od280/od315_of_diluted_wines     2.611685      0.709990\n",
       "proline                        746.893258    314.907474"
      ]
     },
     "execution_count": 16,
     "metadata": {},
     "output_type": "execute_result"
    }
   ],
   "source": [
    "mean_std"
   ]
  },
  {
   "cell_type": "code",
   "execution_count": 17,
   "metadata": {
    "hidden": true
   },
   "outputs": [
    {
     "data": {
      "text/html": [
       "<div>\n",
       "<style scoped>\n",
       "    .dataframe tbody tr th:only-of-type {\n",
       "        vertical-align: middle;\n",
       "    }\n",
       "\n",
       "    .dataframe tbody tr th {\n",
       "        vertical-align: top;\n",
       "    }\n",
       "\n",
       "    .dataframe thead th {\n",
       "        text-align: right;\n",
       "    }\n",
       "</style>\n",
       "<table border=\"1\" class=\"dataframe\">\n",
       "  <thead>\n",
       "    <tr style=\"text-align: right;\">\n",
       "      <th></th>\n",
       "      <th>mean</th>\n",
       "      <th>std</th>\n",
       "      <th>std_minus_mean</th>\n",
       "    </tr>\n",
       "  </thead>\n",
       "  <tbody>\n",
       "    <tr>\n",
       "      <th>malic_acid</th>\n",
       "      <td>2.336348</td>\n",
       "      <td>1.117146</td>\n",
       "      <td>-1.219202</td>\n",
       "    </tr>\n",
       "    <tr>\n",
       "      <th>ash</th>\n",
       "      <td>2.366517</td>\n",
       "      <td>0.274344</td>\n",
       "      <td>-2.092173</td>\n",
       "    </tr>\n",
       "    <tr>\n",
       "      <th>alcalinity_of_ash</th>\n",
       "      <td>19.494944</td>\n",
       "      <td>3.339564</td>\n",
       "      <td>-16.155380</td>\n",
       "    </tr>\n",
       "    <tr>\n",
       "      <th>magnesium</th>\n",
       "      <td>5150.825843</td>\n",
       "      <td>21950.019518</td>\n",
       "      <td>16799.193675</td>\n",
       "    </tr>\n",
       "    <tr>\n",
       "      <th>total_phenols</th>\n",
       "      <td>2.295112</td>\n",
       "      <td>0.625851</td>\n",
       "      <td>-1.669261</td>\n",
       "    </tr>\n",
       "    <tr>\n",
       "      <th>flavanoids</th>\n",
       "      <td>2.029270</td>\n",
       "      <td>0.998859</td>\n",
       "      <td>-1.030411</td>\n",
       "    </tr>\n",
       "    <tr>\n",
       "      <th>nonflavanoid_phenols</th>\n",
       "      <td>0.361854</td>\n",
       "      <td>0.124453</td>\n",
       "      <td>-0.237401</td>\n",
       "    </tr>\n",
       "    <tr>\n",
       "      <th>proanthocyanins</th>\n",
       "      <td>1.590899</td>\n",
       "      <td>0.572359</td>\n",
       "      <td>-1.018540</td>\n",
       "    </tr>\n",
       "    <tr>\n",
       "      <th>color_intensity</th>\n",
       "      <td>5.033789</td>\n",
       "      <td>2.337514</td>\n",
       "      <td>-2.696275</td>\n",
       "    </tr>\n",
       "    <tr>\n",
       "      <th>hue</th>\n",
       "      <td>0.957449</td>\n",
       "      <td>0.228572</td>\n",
       "      <td>-0.728878</td>\n",
       "    </tr>\n",
       "    <tr>\n",
       "      <th>od280/od315_of_diluted_wines</th>\n",
       "      <td>2.611685</td>\n",
       "      <td>0.709990</td>\n",
       "      <td>-1.901695</td>\n",
       "    </tr>\n",
       "    <tr>\n",
       "      <th>proline</th>\n",
       "      <td>746.893258</td>\n",
       "      <td>314.907474</td>\n",
       "      <td>-431.985784</td>\n",
       "    </tr>\n",
       "  </tbody>\n",
       "</table>\n",
       "</div>"
      ],
      "text/plain": [
       "                                     mean           std  std_minus_mean\n",
       "malic_acid                       2.336348      1.117146       -1.219202\n",
       "ash                              2.366517      0.274344       -2.092173\n",
       "alcalinity_of_ash               19.494944      3.339564      -16.155380\n",
       "magnesium                     5150.825843  21950.019518    16799.193675\n",
       "total_phenols                    2.295112      0.625851       -1.669261\n",
       "flavanoids                       2.029270      0.998859       -1.030411\n",
       "nonflavanoid_phenols             0.361854      0.124453       -0.237401\n",
       "proanthocyanins                  1.590899      0.572359       -1.018540\n",
       "color_intensity                  5.033789      2.337514       -2.696275\n",
       "hue                              0.957449      0.228572       -0.728878\n",
       "od280/od315_of_diluted_wines     2.611685      0.709990       -1.901695\n",
       "proline                        746.893258    314.907474     -431.985784"
      ]
     },
     "execution_count": 17,
     "metadata": {},
     "output_type": "execute_result"
    }
   ],
   "source": [
    "mean_std['std_minus_mean'] = mean_std['std'] - mean_std['mean']\n",
    "mean_std"
   ]
  },
  {
   "cell_type": "code",
   "execution_count": 18,
   "metadata": {
    "hidden": true
   },
   "outputs": [
    {
     "data": {
      "text/plain": [
       "43900.03903621062"
      ]
     },
     "execution_count": 18,
     "metadata": {},
     "output_type": "execute_result"
    }
   ],
   "source": [
    "# використаємо правило 2-х сігм для показчика `magnesium`\n",
    "two_sigma = 2 * mean_std.loc['magnesium']['std']\n",
    "two_sigma"
   ]
  },
  {
   "cell_type": "code",
   "execution_count": 19,
   "metadata": {
    "hidden": true
   },
   "outputs": [],
   "source": [
    "# замінити всі значення `magnesium` на медіану \n",
    "X.loc[df['magnesium'] > two_sigma] = np.median(X['magnesium'])"
   ]
  },
  {
   "cell_type": "markdown",
   "metadata": {
    "hidden": true
   },
   "source": [
    "### заміщення пропусків\n",
    "\n",
    "[Детальніше](https://scikit-learn.org/stable/modules/impute.html)"
   ]
  },
  {
   "cell_type": "code",
   "execution_count": 20,
   "metadata": {
    "hidden": true
   },
   "outputs": [
    {
     "data": {
      "text/plain": [
       "malic_acid                      178.0\n",
       "ash                             178.0\n",
       "alcalinity_of_ash               178.0\n",
       "magnesium                       178.0\n",
       "total_phenols                   178.0\n",
       "flavanoids                      178.0\n",
       "nonflavanoid_phenols            178.0\n",
       "proanthocyanins                 178.0\n",
       "color_intensity                 161.0\n",
       "hue                             178.0\n",
       "od280/od315_of_diluted_wines    178.0\n",
       "proline                         178.0\n",
       "Name: count, dtype: float64"
      ]
     },
     "execution_count": 20,
     "metadata": {},
     "output_type": "execute_result"
    }
   ],
   "source": [
    "X.describe().loc['count']"
   ]
  },
  {
   "cell_type": "code",
   "execution_count": 21,
   "metadata": {
    "hidden": true
   },
   "outputs": [
    {
     "data": {
      "text/plain": [
       "0      False\n",
       "1      False\n",
       "2      False\n",
       "3      False\n",
       "4      False\n",
       "       ...  \n",
       "173    False\n",
       "174    False\n",
       "175    False\n",
       "176    False\n",
       "177    False\n",
       "Name: color_intensity, Length: 178, dtype: bool"
      ]
     },
     "execution_count": 21,
     "metadata": {},
     "output_type": "execute_result"
    }
   ],
   "source": [
    "X['color_intensity'].isna()"
   ]
  },
  {
   "cell_type": "code",
   "execution_count": 22,
   "metadata": {
    "hidden": true
   },
   "outputs": [],
   "source": [
    "# замінимо NaN на медіану\n",
    "X['color_intensity'].fillna(value=X['color_intensity'].median(), inplace=True)"
   ]
  },
  {
   "cell_type": "code",
   "execution_count": 23,
   "metadata": {
    "hidden": true
   },
   "outputs": [],
   "source": [
    "# для строкового показчика - замінимо найближчим\n",
    "X['region'].fillna(method='bfill', inplace=True)"
   ]
  },
  {
   "cell_type": "code",
   "execution_count": 24,
   "metadata": {
    "hidden": true,
    "scrolled": true
   },
   "outputs": [
    {
     "name": "stdout",
     "output_type": "stream",
     "text": [
      "<class 'pandas.core.frame.DataFrame'>\n",
      "RangeIndex: 178 entries, 0 to 177\n",
      "Data columns (total 13 columns):\n",
      " #   Column                        Non-Null Count  Dtype  \n",
      "---  ------                        --------------  -----  \n",
      " 0   malic_acid                    178 non-null    float64\n",
      " 1   ash                           178 non-null    float64\n",
      " 2   alcalinity_of_ash             178 non-null    float64\n",
      " 3   magnesium                     178 non-null    float64\n",
      " 4   total_phenols                 178 non-null    float64\n",
      " 5   flavanoids                    178 non-null    float64\n",
      " 6   nonflavanoid_phenols          178 non-null    float64\n",
      " 7   proanthocyanins               178 non-null    float64\n",
      " 8   color_intensity               178 non-null    float64\n",
      " 9   hue                           178 non-null    float64\n",
      " 10  od280/od315_of_diluted_wines  178 non-null    float64\n",
      " 11  proline                       178 non-null    float64\n",
      " 12  region                        177 non-null    object \n",
      "dtypes: float64(12), object(1)\n",
      "memory usage: 18.2+ KB\n"
     ]
    }
   ],
   "source": [
    "X.info()"
   ]
  },
  {
   "cell_type": "markdown",
   "metadata": {
    "hidden": true
   },
   "source": [
    "### Стандартизація та масштабування числових показчиків\n",
    "\n",
    "[Докладніше](https://scikit-learn.org/stable/modules/preprocessing.html#standardization-or-mean-removal-and-variance-scaling)"
   ]
  },
  {
   "cell_type": "code",
   "execution_count": 25,
   "metadata": {
    "hidden": true
   },
   "outputs": [
    {
     "data": {
      "text/plain": [
       "['malic_acid',\n",
       " 'ash',\n",
       " 'alcalinity_of_ash',\n",
       " 'magnesium',\n",
       " 'total_phenols',\n",
       " 'flavanoids',\n",
       " 'nonflavanoid_phenols',\n",
       " 'proanthocyanins',\n",
       " 'color_intensity',\n",
       " 'hue',\n",
       " 'od280/od315_of_diluted_wines',\n",
       " 'proline']"
      ]
     },
     "execution_count": 25,
     "metadata": {},
     "output_type": "execute_result"
    }
   ],
   "source": [
    "# відбір показчиків за їх типом\n",
    "from sklearn.compose import make_column_selector\n",
    "numeric_columns_selector = make_column_selector(dtype_include='float64')\n",
    "X_numeric_columns = numeric_columns_selector(X)\n",
    "X_numeric_columns"
   ]
  },
  {
   "cell_type": "code",
   "execution_count": 26,
   "metadata": {
    "hidden": true,
    "scrolled": true
   },
   "outputs": [
    {
     "name": "stdout",
     "output_type": "stream",
     "text": [
      "<class 'pandas.core.frame.DataFrame'>\n",
      "RangeIndex: 178 entries, 0 to 177\n",
      "Data columns (total 12 columns):\n",
      " #   Column                        Non-Null Count  Dtype  \n",
      "---  ------                        --------------  -----  \n",
      " 0   malic_acid                    178 non-null    float64\n",
      " 1   ash                           178 non-null    float64\n",
      " 2   alcalinity_of_ash             178 non-null    float64\n",
      " 3   magnesium                     178 non-null    float64\n",
      " 4   total_phenols                 178 non-null    float64\n",
      " 5   flavanoids                    178 non-null    float64\n",
      " 6   nonflavanoid_phenols          178 non-null    float64\n",
      " 7   proanthocyanins               178 non-null    float64\n",
      " 8   color_intensity               178 non-null    float64\n",
      " 9   hue                           178 non-null    float64\n",
      " 10  od280/od315_of_diluted_wines  178 non-null    float64\n",
      " 11  proline                       178 non-null    float64\n",
      "dtypes: float64(12)\n",
      "memory usage: 16.8 KB\n"
     ]
    }
   ],
   "source": [
    "X_numeric = X[X_numeric_columns]\n",
    "X_numeric.info()"
   ]
  },
  {
   "cell_type": "code",
   "execution_count": 27,
   "metadata": {
    "hidden": true
   },
   "outputs": [],
   "source": [
    "# підключимо стандартизатор\n",
    "from sklearn.preprocessing import StandardScaler\n",
    "scaler = StandardScaler()\n",
    "_ = scaler.fit(X_numeric)"
   ]
  },
  {
   "cell_type": "code",
   "execution_count": 28,
   "metadata": {
    "hidden": true
   },
   "outputs": [
    {
     "data": {
      "text/plain": [
       "(array([2.33634831e+00, 2.36651685e+00, 1.94949438e+01, 5.15082584e+03,\n",
       "        2.29511236e+00, 2.02926966e+00, 3.61853933e-01, 1.59089888e+00,\n",
       "        4.99235954e+00, 9.57449438e-01, 2.61168539e+00, 7.46893258e+02]),\n",
       " array([1.11400363e+00, 2.73572294e-01, 3.33016976e+00, 2.18882753e+04,\n",
       "        6.24090564e-01, 9.96048950e-01, 1.24103260e-01, 5.70748849e-01,\n",
       "        2.21983980e+00, 2.27928607e-01, 7.07993265e-01, 3.14021657e+02]),\n",
       " array([1.24100408e+00, 7.48418003e-02, 1.10900306e+01, 4.79096596e+08,\n",
       "        3.89489032e-01, 9.92113512e-01, 1.54016191e-02, 3.25754248e-01,\n",
       "        4.92768876e+00, 5.19514497e-02, 5.01254463e-01, 9.86096010e+04]))"
      ]
     },
     "execution_count": 28,
     "metadata": {},
     "output_type": "execute_result"
    }
   ],
   "source": [
    "(scaler.mean_, scaler.scale_, scaler.var_)"
   ]
  },
  {
   "cell_type": "code",
   "execution_count": 29,
   "metadata": {
    "hidden": true
   },
   "outputs": [],
   "source": [
    "X_numeric_scaled = pd.DataFrame(scaler.transform(X_numeric), columns=X_numeric_columns)"
   ]
  },
  {
   "cell_type": "code",
   "execution_count": 30,
   "metadata": {
    "hidden": true
   },
   "outputs": [
    {
     "data": {
      "text/html": [
       "<div>\n",
       "<style scoped>\n",
       "    .dataframe tbody tr th:only-of-type {\n",
       "        vertical-align: middle;\n",
       "    }\n",
       "\n",
       "    .dataframe tbody tr th {\n",
       "        vertical-align: top;\n",
       "    }\n",
       "\n",
       "    .dataframe thead th {\n",
       "        text-align: right;\n",
       "    }\n",
       "</style>\n",
       "<table border=\"1\" class=\"dataframe\">\n",
       "  <thead>\n",
       "    <tr style=\"text-align: right;\">\n",
       "      <th></th>\n",
       "      <th>malic_acid</th>\n",
       "      <th>ash</th>\n",
       "      <th>alcalinity_of_ash</th>\n",
       "      <th>magnesium</th>\n",
       "      <th>total_phenols</th>\n",
       "      <th>flavanoids</th>\n",
       "      <th>nonflavanoid_phenols</th>\n",
       "      <th>proanthocyanins</th>\n",
       "      <th>color_intensity</th>\n",
       "      <th>hue</th>\n",
       "      <th>od280/od315_of_diluted_wines</th>\n",
       "      <th>proline</th>\n",
       "    </tr>\n",
       "  </thead>\n",
       "  <tbody>\n",
       "    <tr>\n",
       "      <th>count</th>\n",
       "      <td>1.780000e+02</td>\n",
       "      <td>1.780000e+02</td>\n",
       "      <td>1.780000e+02</td>\n",
       "      <td>1.780000e+02</td>\n",
       "      <td>1.780000e+02</td>\n",
       "      <td>1.780000e+02</td>\n",
       "      <td>1.780000e+02</td>\n",
       "      <td>1.780000e+02</td>\n",
       "      <td>1.780000e+02</td>\n",
       "      <td>1.780000e+02</td>\n",
       "      <td>1.780000e+02</td>\n",
       "      <td>1.780000e+02</td>\n",
       "    </tr>\n",
       "    <tr>\n",
       "      <th>mean</th>\n",
       "      <td>-8.357859e-17</td>\n",
       "      <td>-8.657245e-16</td>\n",
       "      <td>-1.160121e-16</td>\n",
       "      <td>-3.149790e-17</td>\n",
       "      <td>-2.972030e-16</td>\n",
       "      <td>-4.016762e-16</td>\n",
       "      <td>4.079134e-16</td>\n",
       "      <td>-1.699639e-16</td>\n",
       "      <td>-7.359905e-17</td>\n",
       "      <td>3.717376e-16</td>\n",
       "      <td>2.919013e-16</td>\n",
       "      <td>-7.484650e-18</td>\n",
       "    </tr>\n",
       "    <tr>\n",
       "      <th>std</th>\n",
       "      <td>1.002821e+00</td>\n",
       "      <td>1.002821e+00</td>\n",
       "      <td>1.002821e+00</td>\n",
       "      <td>1.002821e+00</td>\n",
       "      <td>1.002821e+00</td>\n",
       "      <td>1.002821e+00</td>\n",
       "      <td>1.002821e+00</td>\n",
       "      <td>1.002821e+00</td>\n",
       "      <td>1.002821e+00</td>\n",
       "      <td>1.002821e+00</td>\n",
       "      <td>1.002821e+00</td>\n",
       "      <td>1.002821e+00</td>\n",
       "    </tr>\n",
       "    <tr>\n",
       "      <th>min</th>\n",
       "      <td>-1.432983e+00</td>\n",
       "      <td>-3.679162e+00</td>\n",
       "      <td>-2.671018e+00</td>\n",
       "      <td>-2.321255e-01</td>\n",
       "      <td>-2.107246e+00</td>\n",
       "      <td>-1.695971e+00</td>\n",
       "      <td>-1.868234e+00</td>\n",
       "      <td>-2.069034e+00</td>\n",
       "      <td>-1.672355e+00</td>\n",
       "      <td>-2.094732e+00</td>\n",
       "      <td>-1.895054e+00</td>\n",
       "      <td>-1.493188e+00</td>\n",
       "    </tr>\n",
       "    <tr>\n",
       "      <th>25%</th>\n",
       "      <td>-6.587486e-01</td>\n",
       "      <td>-5.721225e-01</td>\n",
       "      <td>-6.891372e-01</td>\n",
       "      <td>-2.312917e-01</td>\n",
       "      <td>-8.854682e-01</td>\n",
       "      <td>-8.275393e-01</td>\n",
       "      <td>-7.401412e-01</td>\n",
       "      <td>-5.972835e-01</td>\n",
       "      <td>-7.567481e-01</td>\n",
       "      <td>-7.675624e-01</td>\n",
       "      <td>-9.522483e-01</td>\n",
       "      <td>-7.846378e-01</td>\n",
       "    </tr>\n",
       "    <tr>\n",
       "      <th>50%</th>\n",
       "      <td>-4.231120e-01</td>\n",
       "      <td>-2.382132e-02</td>\n",
       "      <td>1.518295e-03</td>\n",
       "      <td>-2.308462e-01</td>\n",
       "      <td>9.595986e-02</td>\n",
       "      <td>1.061497e-01</td>\n",
       "      <td>-1.760948e-01</td>\n",
       "      <td>-6.289785e-02</td>\n",
       "      <td>-1.767513e-01</td>\n",
       "      <td>3.312687e-02</td>\n",
       "      <td>2.377348e-01</td>\n",
       "      <td>-2.337204e-01</td>\n",
       "    </tr>\n",
       "    <tr>\n",
       "      <th>75%</th>\n",
       "      <td>6.697929e-01</td>\n",
       "      <td>6.981085e-01</td>\n",
       "      <td>6.020883e-01</td>\n",
       "      <td>-2.302980e-01</td>\n",
       "      <td>8.089974e-01</td>\n",
       "      <td>8.490851e-01</td>\n",
       "      <td>6.095413e-01</td>\n",
       "      <td>6.291754e-01</td>\n",
       "      <td>3.750903e-01</td>\n",
       "      <td>7.131644e-01</td>\n",
       "      <td>7.885875e-01</td>\n",
       "      <td>7.582494e-01</td>\n",
       "    </tr>\n",
       "    <tr>\n",
       "      <th>max</th>\n",
       "      <td>3.109192e+00</td>\n",
       "      <td>3.156325e+00</td>\n",
       "      <td>3.154511e+00</td>\n",
       "      <td>4.333332e+00</td>\n",
       "      <td>2.539515e+00</td>\n",
       "      <td>3.062832e+00</td>\n",
       "      <td>2.402403e+00</td>\n",
       "      <td>3.485073e+00</td>\n",
       "      <td>3.607306e+00</td>\n",
       "      <td>3.301694e+00</td>\n",
       "      <td>1.960915e+00</td>\n",
       "      <td>2.971473e+00</td>\n",
       "    </tr>\n",
       "  </tbody>\n",
       "</table>\n",
       "</div>"
      ],
      "text/plain": [
       "         malic_acid           ash  alcalinity_of_ash     magnesium  \\\n",
       "count  1.780000e+02  1.780000e+02       1.780000e+02  1.780000e+02   \n",
       "mean  -8.357859e-17 -8.657245e-16      -1.160121e-16 -3.149790e-17   \n",
       "std    1.002821e+00  1.002821e+00       1.002821e+00  1.002821e+00   \n",
       "min   -1.432983e+00 -3.679162e+00      -2.671018e+00 -2.321255e-01   \n",
       "25%   -6.587486e-01 -5.721225e-01      -6.891372e-01 -2.312917e-01   \n",
       "50%   -4.231120e-01 -2.382132e-02       1.518295e-03 -2.308462e-01   \n",
       "75%    6.697929e-01  6.981085e-01       6.020883e-01 -2.302980e-01   \n",
       "max    3.109192e+00  3.156325e+00       3.154511e+00  4.333332e+00   \n",
       "\n",
       "       total_phenols    flavanoids  nonflavanoid_phenols  proanthocyanins  \\\n",
       "count   1.780000e+02  1.780000e+02          1.780000e+02     1.780000e+02   \n",
       "mean   -2.972030e-16 -4.016762e-16          4.079134e-16    -1.699639e-16   \n",
       "std     1.002821e+00  1.002821e+00          1.002821e+00     1.002821e+00   \n",
       "min    -2.107246e+00 -1.695971e+00         -1.868234e+00    -2.069034e+00   \n",
       "25%    -8.854682e-01 -8.275393e-01         -7.401412e-01    -5.972835e-01   \n",
       "50%     9.595986e-02  1.061497e-01         -1.760948e-01    -6.289785e-02   \n",
       "75%     8.089974e-01  8.490851e-01          6.095413e-01     6.291754e-01   \n",
       "max     2.539515e+00  3.062832e+00          2.402403e+00     3.485073e+00   \n",
       "\n",
       "       color_intensity           hue  od280/od315_of_diluted_wines  \\\n",
       "count     1.780000e+02  1.780000e+02                  1.780000e+02   \n",
       "mean     -7.359905e-17  3.717376e-16                  2.919013e-16   \n",
       "std       1.002821e+00  1.002821e+00                  1.002821e+00   \n",
       "min      -1.672355e+00 -2.094732e+00                 -1.895054e+00   \n",
       "25%      -7.567481e-01 -7.675624e-01                 -9.522483e-01   \n",
       "50%      -1.767513e-01  3.312687e-02                  2.377348e-01   \n",
       "75%       3.750903e-01  7.131644e-01                  7.885875e-01   \n",
       "max       3.607306e+00  3.301694e+00                  1.960915e+00   \n",
       "\n",
       "            proline  \n",
       "count  1.780000e+02  \n",
       "mean  -7.484650e-18  \n",
       "std    1.002821e+00  \n",
       "min   -1.493188e+00  \n",
       "25%   -7.846378e-01  \n",
       "50%   -2.337204e-01  \n",
       "75%    7.582494e-01  \n",
       "max    2.971473e+00  "
      ]
     },
     "execution_count": 30,
     "metadata": {},
     "output_type": "execute_result"
    }
   ],
   "source": [
    "X_numeric_scaled.describe()"
   ]
  },
  {
   "cell_type": "markdown",
   "metadata": {
    "hidden": true
   },
   "source": [
    "### Перетворення категоріальних даних\n",
    "\n",
    "[Докладніше про стратегії кодування](https://scikit-learn.org/stable/modules/preprocessing.html#encoding-categorical-features)"
   ]
  },
  {
   "cell_type": "code",
   "execution_count": 31,
   "metadata": {
    "hidden": true
   },
   "outputs": [
    {
     "data": {
      "text/plain": [
       "['region']"
      ]
     },
     "execution_count": 31,
     "metadata": {},
     "output_type": "execute_result"
    }
   ],
   "source": [
    "categorical_selector = make_column_selector(dtype_include='O')\n",
    "X_categorical_columns = categorical_selector(X)\n",
    "X_categorical_columns"
   ]
  },
  {
   "cell_type": "code",
   "execution_count": 32,
   "metadata": {
    "hidden": true
   },
   "outputs": [
    {
     "data": {
      "text/plain": [
       "array(['west', 'east', 'nord', nan], dtype=object)"
      ]
     },
     "execution_count": 32,
     "metadata": {},
     "output_type": "execute_result"
    }
   ],
   "source": [
    "X['region'].unique()"
   ]
  },
  {
   "cell_type": "code",
   "execution_count": 33,
   "metadata": {
    "hidden": true
   },
   "outputs": [
    {
     "data": {
      "text/html": [
       "<div>\n",
       "<style scoped>\n",
       "    .dataframe tbody tr th:only-of-type {\n",
       "        vertical-align: middle;\n",
       "    }\n",
       "\n",
       "    .dataframe tbody tr th {\n",
       "        vertical-align: top;\n",
       "    }\n",
       "\n",
       "    .dataframe thead th {\n",
       "        text-align: right;\n",
       "    }\n",
       "</style>\n",
       "<table border=\"1\" class=\"dataframe\">\n",
       "  <thead>\n",
       "    <tr style=\"text-align: right;\">\n",
       "      <th></th>\n",
       "      <th>region</th>\n",
       "    </tr>\n",
       "  </thead>\n",
       "  <tbody>\n",
       "    <tr>\n",
       "      <th>count</th>\n",
       "      <td>177</td>\n",
       "    </tr>\n",
       "    <tr>\n",
       "      <th>unique</th>\n",
       "      <td>3</td>\n",
       "    </tr>\n",
       "    <tr>\n",
       "      <th>top</th>\n",
       "      <td>east</td>\n",
       "    </tr>\n",
       "    <tr>\n",
       "      <th>freq</th>\n",
       "      <td>71</td>\n",
       "    </tr>\n",
       "  </tbody>\n",
       "</table>\n",
       "</div>"
      ],
      "text/plain": [
       "       region\n",
       "count     177\n",
       "unique      3\n",
       "top      east\n",
       "freq       71"
      ]
     },
     "execution_count": 33,
     "metadata": {},
     "output_type": "execute_result"
    }
   ],
   "source": [
    "X_categorical = X[X_categorical_columns]\n",
    "X_categorical.describe()"
   ]
  },
  {
   "cell_type": "code",
   "execution_count": 34,
   "metadata": {
    "hidden": true
   },
   "outputs": [],
   "source": [
    "from sklearn.preprocessing import OneHotEncoder\n",
    "encoder = OneHotEncoder(handle_unknown='ignore', sparse=False)"
   ]
  },
  {
   "cell_type": "code",
   "execution_count": 35,
   "metadata": {
    "hidden": true
   },
   "outputs": [],
   "source": [
    "_ = encoder.fit(X_categorical)"
   ]
  },
  {
   "cell_type": "code",
   "execution_count": 36,
   "metadata": {
    "hidden": true
   },
   "outputs": [],
   "source": [
    "X_categorical_encoded = encoder.transform(X_categorical)\n",
    "X_categorical_encoded = pd.DataFrame(X_categorical_encoded, columns=encoder.categories_)"
   ]
  },
  {
   "cell_type": "markdown",
   "metadata": {
    "hidden": true
   },
   "source": [
    "### Об'єднати числовий та категоріальний датасети"
   ]
  },
  {
   "cell_type": "code",
   "execution_count": 37,
   "metadata": {
    "hidden": true
   },
   "outputs": [
    {
     "data": {
      "text/plain": [
       "((178, 12), (178, 4))"
      ]
     },
     "execution_count": 37,
     "metadata": {},
     "output_type": "execute_result"
    }
   ],
   "source": [
    "(X_numeric_scaled.shape, X_categorical_encoded.shape)"
   ]
  },
  {
   "cell_type": "code",
   "execution_count": 38,
   "metadata": {
    "hidden": true
   },
   "outputs": [],
   "source": [
    "X = pd.concat([X_numeric_scaled, X_categorical_encoded], axis=1)"
   ]
  },
  {
   "cell_type": "code",
   "execution_count": 39,
   "metadata": {
    "hidden": true
   },
   "outputs": [
    {
     "data": {
      "text/html": [
       "<div>\n",
       "<style scoped>\n",
       "    .dataframe tbody tr th:only-of-type {\n",
       "        vertical-align: middle;\n",
       "    }\n",
       "\n",
       "    .dataframe tbody tr th {\n",
       "        vertical-align: top;\n",
       "    }\n",
       "\n",
       "    .dataframe thead th {\n",
       "        text-align: right;\n",
       "    }\n",
       "</style>\n",
       "<table border=\"1\" class=\"dataframe\">\n",
       "  <thead>\n",
       "    <tr style=\"text-align: right;\">\n",
       "      <th></th>\n",
       "      <th>malic_acid</th>\n",
       "      <th>ash</th>\n",
       "      <th>alcalinity_of_ash</th>\n",
       "      <th>magnesium</th>\n",
       "      <th>total_phenols</th>\n",
       "      <th>flavanoids</th>\n",
       "      <th>nonflavanoid_phenols</th>\n",
       "      <th>proanthocyanins</th>\n",
       "      <th>color_intensity</th>\n",
       "      <th>hue</th>\n",
       "      <th>od280/od315_of_diluted_wines</th>\n",
       "      <th>proline</th>\n",
       "      <th>(east,)</th>\n",
       "      <th>(nord,)</th>\n",
       "      <th>(west,)</th>\n",
       "      <th>(nan,)</th>\n",
       "    </tr>\n",
       "  </thead>\n",
       "  <tbody>\n",
       "    <tr>\n",
       "      <th>0</th>\n",
       "      <td>-0.562250</td>\n",
       "      <td>0.232053</td>\n",
       "      <td>-1.169593</td>\n",
       "      <td>4.333332</td>\n",
       "      <td>0.808997</td>\n",
       "      <td>1.034819</td>\n",
       "      <td>-0.659563</td>\n",
       "      <td>1.224884</td>\n",
       "      <td>0.291751</td>\n",
       "      <td>0.362177</td>\n",
       "      <td>1.847920</td>\n",
       "      <td>1.013009</td>\n",
       "      <td>0.0</td>\n",
       "      <td>0.0</td>\n",
       "      <td>1.0</td>\n",
       "      <td>0.0</td>\n",
       "    </tr>\n",
       "    <tr>\n",
       "      <th>1</th>\n",
       "      <td>-0.499413</td>\n",
       "      <td>-0.827996</td>\n",
       "      <td>-2.490847</td>\n",
       "      <td>-0.230755</td>\n",
       "      <td>0.568648</td>\n",
       "      <td>0.733629</td>\n",
       "      <td>-0.820719</td>\n",
       "      <td>-0.544721</td>\n",
       "      <td>-0.275858</td>\n",
       "      <td>0.406051</td>\n",
       "      <td>1.113449</td>\n",
       "      <td>0.965242</td>\n",
       "      <td>0.0</td>\n",
       "      <td>0.0</td>\n",
       "      <td>1.0</td>\n",
       "      <td>0.0</td>\n",
       "    </tr>\n",
       "    <tr>\n",
       "      <th>2</th>\n",
       "      <td>0.021231</td>\n",
       "      <td>1.109334</td>\n",
       "      <td>-0.268738</td>\n",
       "      <td>-0.230709</td>\n",
       "      <td>0.808997</td>\n",
       "      <td>1.215533</td>\n",
       "      <td>-0.498407</td>\n",
       "      <td>2.135968</td>\n",
       "      <td>0.309770</td>\n",
       "      <td>0.318304</td>\n",
       "      <td>0.788587</td>\n",
       "      <td>1.395148</td>\n",
       "      <td>0.0</td>\n",
       "      <td>0.0</td>\n",
       "      <td>1.0</td>\n",
       "      <td>0.0</td>\n",
       "    </tr>\n",
       "    <tr>\n",
       "      <th>3</th>\n",
       "      <td>-0.346811</td>\n",
       "      <td>0.487926</td>\n",
       "      <td>-0.809251</td>\n",
       "      <td>-0.230161</td>\n",
       "      <td>2.491446</td>\n",
       "      <td>1.466525</td>\n",
       "      <td>-0.981875</td>\n",
       "      <td>1.032155</td>\n",
       "      <td>1.264794</td>\n",
       "      <td>-0.427544</td>\n",
       "      <td>1.184071</td>\n",
       "      <td>2.334574</td>\n",
       "      <td>0.0</td>\n",
       "      <td>0.0</td>\n",
       "      <td>1.0</td>\n",
       "      <td>0.0</td>\n",
       "    </tr>\n",
       "    <tr>\n",
       "      <th>4</th>\n",
       "      <td>0.227694</td>\n",
       "      <td>1.840403</td>\n",
       "      <td>0.451946</td>\n",
       "      <td>-0.229932</td>\n",
       "      <td>0.808997</td>\n",
       "      <td>0.663351</td>\n",
       "      <td>0.226796</td>\n",
       "      <td>0.401404</td>\n",
       "      <td>-0.302887</td>\n",
       "      <td>0.362177</td>\n",
       "      <td>0.449601</td>\n",
       "      <td>-0.037874</td>\n",
       "      <td>0.0</td>\n",
       "      <td>0.0</td>\n",
       "      <td>1.0</td>\n",
       "      <td>0.0</td>\n",
       "    </tr>\n",
       "  </tbody>\n",
       "</table>\n",
       "</div>"
      ],
      "text/plain": [
       "   malic_acid       ash  alcalinity_of_ash  magnesium  total_phenols  \\\n",
       "0   -0.562250  0.232053          -1.169593   4.333332       0.808997   \n",
       "1   -0.499413 -0.827996          -2.490847  -0.230755       0.568648   \n",
       "2    0.021231  1.109334          -0.268738  -0.230709       0.808997   \n",
       "3   -0.346811  0.487926          -0.809251  -0.230161       2.491446   \n",
       "4    0.227694  1.840403           0.451946  -0.229932       0.808997   \n",
       "\n",
       "   flavanoids  nonflavanoid_phenols  proanthocyanins  color_intensity  \\\n",
       "0    1.034819             -0.659563         1.224884         0.291751   \n",
       "1    0.733629             -0.820719        -0.544721        -0.275858   \n",
       "2    1.215533             -0.498407         2.135968         0.309770   \n",
       "3    1.466525             -0.981875         1.032155         1.264794   \n",
       "4    0.663351              0.226796         0.401404        -0.302887   \n",
       "\n",
       "        hue  od280/od315_of_diluted_wines   proline  (east,)  (nord,)  \\\n",
       "0  0.362177                      1.847920  1.013009      0.0      0.0   \n",
       "1  0.406051                      1.113449  0.965242      0.0      0.0   \n",
       "2  0.318304                      0.788587  1.395148      0.0      0.0   \n",
       "3 -0.427544                      1.184071  2.334574      0.0      0.0   \n",
       "4  0.362177                      0.449601 -0.037874      0.0      0.0   \n",
       "\n",
       "   (west,)  (nan,)  \n",
       "0      1.0     0.0  \n",
       "1      1.0     0.0  \n",
       "2      1.0     0.0  \n",
       "3      1.0     0.0  \n",
       "4      1.0     0.0  "
      ]
     },
     "execution_count": 39,
     "metadata": {},
     "output_type": "execute_result"
    }
   ],
   "source": [
    "X.head()"
   ]
  },
  {
   "cell_type": "markdown",
   "metadata": {
    "heading_collapsed": true
   },
   "source": [
    "## ІНДИВІДУАЛЬНЕ ЗАВДАННЯ"
   ]
  },
  {
   "cell_type": "code",
   "execution_count": 40,
   "metadata": {
    "hidden": true
   },
   "outputs": [],
   "source": [
    "import warnings\n",
    "warnings.filterwarnings('ignore')"
   ]
  },
  {
   "cell_type": "markdown",
   "metadata": {
    "hidden": true
   },
   "source": [
    "<div style='background-color:lightgreen'>\n",
    "<H3 style='color:red'>Виконати процедури очищення, збагачення та нормалізації даних рієлторської компанії в файлі `aprt_properties.csv`</H3>\n",
    "<p>Н<b>а місці `...` написати свій код<b></p>\n",
    "</div>\n"
   ]
  },
  {
   "cell_type": "code",
   "execution_count": 41,
   "metadata": {
    "hidden": true,
    "run_control": {
     "marked": true
    }
   },
   "outputs": [],
   "source": [
    "# імпортувати бібліотеку Pandas, NumPy \n",
    "import numpy as np\n",
    "import pandas as pd"
   ]
  },
  {
   "cell_type": "markdown",
   "metadata": {
    "hidden": true
   },
   "source": [
    "### I. Вилучення сирих даних\n",
    "\n",
    "__Примітка__: використати функцію `read_csv` з параметром `na_values=['None']` щоб згенерувати правильні типи даних"
   ]
  },
  {
   "cell_type": "code",
   "execution_count": 42,
   "metadata": {
    "hidden": true
   },
   "outputs": [],
   "source": [
    "df = pd.read_csv('aprt_properties.csv', na_values=['None'])"
   ]
  },
  {
   "cell_type": "markdown",
   "metadata": {
    "hidden": true
   },
   "source": [
    "### II. Очищення (_опціонально_)\n",
    "\n",
    "__Примітка__: на цьому етапі слід\n",
    "1. Визначитись які показчики є категоріальними або числовими\n",
    "2. При необхідності зробити перетворення типів (функція `astype`)\n",
    "3. Визначити чи є в датасеті викиди.\n",
    "4. При наявності викидів зробити їх корегування (`mean` або `median`)"
   ]
  },
  {
   "cell_type": "code",
   "execution_count": null,
   "metadata": {
    "hidden": true
   },
   "outputs": [],
   "source": [
    "..."
   ]
  },
  {
   "cell_type": "markdown",
   "metadata": {
    "hidden": true
   },
   "source": [
    "### III. Заповнення пропусків для чисельних показчиків\n",
    "\n",
    "__Примітка__: на цьому етапі слід\n",
    "\n",
    "1. Виділити датасет з чисельними показчиками використовуючи `make_column_selector`\n",
    "2. Заповнити пусті (`NaN`) значення медіанними значеннями відповідної колонки (`fillna`)"
   ]
  },
  {
   "cell_type": "code",
   "execution_count": 43,
   "metadata": {
    "hidden": true
   },
   "outputs": [],
   "source": [
    "from sklearn.compose import make_column_selector\n",
    "...\n",
    "df_num_col = numeric_columns_selector(df)\n",
    "df_num_col\n",
    "df_num = df[df_num_col]"
   ]
  },
  {
   "cell_type": "code",
   "execution_count": 44,
   "metadata": {},
   "outputs": [
    {
     "data": {
      "text/html": [
       "<div>\n",
       "<style scoped>\n",
       "    .dataframe tbody tr th:only-of-type {\n",
       "        vertical-align: middle;\n",
       "    }\n",
       "\n",
       "    .dataframe tbody tr th {\n",
       "        vertical-align: top;\n",
       "    }\n",
       "\n",
       "    .dataframe thead th {\n",
       "        text-align: right;\n",
       "    }\n",
       "</style>\n",
       "<table border=\"1\" class=\"dataframe\">\n",
       "  <thead>\n",
       "    <tr style=\"text-align: right;\">\n",
       "      <th></th>\n",
       "      <th>Price</th>\n",
       "      <th>rooms</th>\n",
       "      <th>price_per_m2</th>\n",
       "      <th>level</th>\n",
       "      <th>levels</th>\n",
       "      <th>year</th>\n",
       "      <th>area_total</th>\n",
       "      <th>area_living</th>\n",
       "      <th>area_kitchen</th>\n",
       "      <th>street</th>\n",
       "      <th>publish_date</th>\n",
       "    </tr>\n",
       "  </thead>\n",
       "  <tbody>\n",
       "    <tr>\n",
       "      <th>0</th>\n",
       "      <td>140000.0</td>\n",
       "      <td>2.0</td>\n",
       "      <td>2258.0</td>\n",
       "      <td>7.0</td>\n",
       "      <td>9.0</td>\n",
       "      <td>1969.0</td>\n",
       "      <td>62.0</td>\n",
       "      <td>47.0</td>\n",
       "      <td>9.0</td>\n",
       "      <td>Омеляновича-Павленка</td>\n",
       "      <td>3 вересня 2020 р.</td>\n",
       "    </tr>\n",
       "    <tr>\n",
       "      <th>1</th>\n",
       "      <td>105000.0</td>\n",
       "      <td>4.0</td>\n",
       "      <td>847.0</td>\n",
       "      <td>25.0</td>\n",
       "      <td>26.0</td>\n",
       "      <td>2018.0</td>\n",
       "      <td>124.0</td>\n",
       "      <td>71.0</td>\n",
       "      <td>16.0</td>\n",
       "      <td>NaN</td>\n",
       "      <td>7 жовтня 2020 р.</td>\n",
       "    </tr>\n",
       "    <tr>\n",
       "      <th>2</th>\n",
       "      <td>175000.0</td>\n",
       "      <td>3.0</td>\n",
       "      <td>1786.0</td>\n",
       "      <td>25.0</td>\n",
       "      <td>26.0</td>\n",
       "      <td>2010.0</td>\n",
       "      <td>98.0</td>\n",
       "      <td>NaN</td>\n",
       "      <td>NaN</td>\n",
       "      <td>Ованеса Туманяна</td>\n",
       "      <td>1 жовтня 2020 р.</td>\n",
       "    </tr>\n",
       "    <tr>\n",
       "      <th>3</th>\n",
       "      <td>30970.0</td>\n",
       "      <td>1.0</td>\n",
       "      <td>1106.0</td>\n",
       "      <td>12.0</td>\n",
       "      <td>13.0</td>\n",
       "      <td>2013.0</td>\n",
       "      <td>28.0</td>\n",
       "      <td>13.0</td>\n",
       "      <td>5.0</td>\n",
       "      <td>Петропавлівська</td>\n",
       "      <td>1 лютого</td>\n",
       "    </tr>\n",
       "    <tr>\n",
       "      <th>4</th>\n",
       "      <td>82000.0</td>\n",
       "      <td>2.0</td>\n",
       "      <td>1281.0</td>\n",
       "      <td>18.0</td>\n",
       "      <td>26.0</td>\n",
       "      <td></td>\n",
       "      <td>64.0</td>\n",
       "      <td>NaN</td>\n",
       "      <td>NaN</td>\n",
       "      <td>Дніпровська</td>\n",
       "      <td>*** not found</td>\n",
       "    </tr>\n",
       "    <tr>\n",
       "      <th>...</th>\n",
       "      <td>...</td>\n",
       "      <td>...</td>\n",
       "      <td>...</td>\n",
       "      <td>...</td>\n",
       "      <td>...</td>\n",
       "      <td>...</td>\n",
       "      <td>...</td>\n",
       "      <td>...</td>\n",
       "      <td>...</td>\n",
       "      <td>...</td>\n",
       "      <td>...</td>\n",
       "    </tr>\n",
       "    <tr>\n",
       "      <th>723</th>\n",
       "      <td>49990.0</td>\n",
       "      <td>3.0</td>\n",
       "      <td>757.0</td>\n",
       "      <td>8.0</td>\n",
       "      <td>9.0</td>\n",
       "      <td>1976.0</td>\n",
       "      <td>66.0</td>\n",
       "      <td>45.0</td>\n",
       "      <td>8.0</td>\n",
       "      <td>Наумова</td>\n",
       "      <td>14 квітня 2020 р.</td>\n",
       "    </tr>\n",
       "    <tr>\n",
       "      <th>724</th>\n",
       "      <td>89000.0</td>\n",
       "      <td>1.0</td>\n",
       "      <td>2342.0</td>\n",
       "      <td>7.0</td>\n",
       "      <td>15.0</td>\n",
       "      <td></td>\n",
       "      <td>38.0</td>\n",
       "      <td>20.0</td>\n",
       "      <td>7.0</td>\n",
       "      <td>Перемоги</td>\n",
       "      <td>*** not found</td>\n",
       "    </tr>\n",
       "    <tr>\n",
       "      <th>725</th>\n",
       "      <td>170000.0</td>\n",
       "      <td>2.0</td>\n",
       "      <td>2656.0</td>\n",
       "      <td>5.0</td>\n",
       "      <td>7.0</td>\n",
       "      <td>1948.0</td>\n",
       "      <td>64.0</td>\n",
       "      <td>NaN</td>\n",
       "      <td>9.0</td>\n",
       "      <td>Велика Васильківська</td>\n",
       "      <td>6 березня 2019 р.</td>\n",
       "    </tr>\n",
       "    <tr>\n",
       "      <th>726</th>\n",
       "      <td>29256.6</td>\n",
       "      <td>1.0</td>\n",
       "      <td>978.5</td>\n",
       "      <td>1.0</td>\n",
       "      <td>5.0</td>\n",
       "      <td></td>\n",
       "      <td>NaN</td>\n",
       "      <td>NaN</td>\n",
       "      <td>NaN</td>\n",
       "      <td>Червоноткацька</td>\n",
       "      <td>*** not found</td>\n",
       "    </tr>\n",
       "    <tr>\n",
       "      <th>727</th>\n",
       "      <td>46500.0</td>\n",
       "      <td>2.0</td>\n",
       "      <td>1011.0</td>\n",
       "      <td>5.0</td>\n",
       "      <td>5.0</td>\n",
       "      <td>1963.0</td>\n",
       "      <td>46.0</td>\n",
       "      <td>31.0</td>\n",
       "      <td>7.0</td>\n",
       "      <td>Вишгородська</td>\n",
       "      <td>24 лютого</td>\n",
       "    </tr>\n",
       "  </tbody>\n",
       "</table>\n",
       "<p>728 rows × 11 columns</p>\n",
       "</div>"
      ],
      "text/plain": [
       "        Price  rooms  price_per_m2  level  levels    year  area_total  \\\n",
       "0    140000.0    2.0        2258.0    7.0     9.0  1969.0        62.0   \n",
       "1    105000.0    4.0         847.0   25.0    26.0  2018.0       124.0   \n",
       "2    175000.0    3.0        1786.0   25.0    26.0  2010.0        98.0   \n",
       "3     30970.0    1.0        1106.0   12.0    13.0  2013.0        28.0   \n",
       "4     82000.0    2.0        1281.0   18.0    26.0                64.0   \n",
       "..        ...    ...           ...    ...     ...     ...         ...   \n",
       "723   49990.0    3.0         757.0    8.0     9.0  1976.0        66.0   \n",
       "724   89000.0    1.0        2342.0    7.0    15.0                38.0   \n",
       "725  170000.0    2.0        2656.0    5.0     7.0  1948.0        64.0   \n",
       "726   29256.6    1.0         978.5    1.0     5.0                 NaN   \n",
       "727   46500.0    2.0        1011.0    5.0     5.0  1963.0        46.0   \n",
       "\n",
       "     area_living  area_kitchen                street       publish_date  \n",
       "0           47.0           9.0  Омеляновича-Павленка  3 вересня 2020 р.  \n",
       "1           71.0          16.0                   NaN   7 жовтня 2020 р.  \n",
       "2            NaN           NaN      Ованеса Туманяна   1 жовтня 2020 р.  \n",
       "3           13.0           5.0       Петропавлівська           1 лютого  \n",
       "4            NaN           NaN           Дніпровська      *** not found  \n",
       "..           ...           ...                   ...                ...  \n",
       "723         45.0           8.0               Наумова  14 квітня 2020 р.  \n",
       "724         20.0           7.0              Перемоги      *** not found  \n",
       "725          NaN           9.0  Велика Васильківська  6 березня 2019 р.  \n",
       "726          NaN           NaN        Червоноткацька      *** not found  \n",
       "727         31.0           7.0          Вишгородська          24 лютого  \n",
       "\n",
       "[728 rows x 11 columns]"
      ]
     },
     "execution_count": 44,
     "metadata": {},
     "output_type": "execute_result"
    }
   ],
   "source": [
    "df[\"year\"] = df[\"year\"].fillna('')\n",
    "df\n"
   ]
  },
  {
   "cell_type": "markdown",
   "metadata": {
    "hidden": true
   },
   "source": [
    "### IV. Масштабування чисельних показчиків\n",
    "\n",
    "__Примітка__: на цьому етапі слід побудувати змаштабований датасет `df_num_scaled` з чисельних показчиків використавші модуль __`StandardScaler`__ та його функцію `fit_transform`"
   ]
  },
  {
   "cell_type": "code",
   "execution_count": 45,
   "metadata": {
    "hidden": true
   },
   "outputs": [],
   "source": [
    "from sklearn.preprocessing import StandardScaler\n",
    "\n",
    "scaler = StandardScaler()\n",
    "scaler.fit_transform(df_num)\n",
    "(scaler.mean_, scaler.scale_, scaler.var_)\n",
    "\n",
    "df_num_scaled = pd.DataFrame(scaler.fit_transform(df_num), columns=df_num_col)"
   ]
  },
  {
   "cell_type": "code",
   "execution_count": 46,
   "metadata": {},
   "outputs": [
    {
     "data": {
      "text/html": [
       "<div>\n",
       "<style scoped>\n",
       "    .dataframe tbody tr th:only-of-type {\n",
       "        vertical-align: middle;\n",
       "    }\n",
       "\n",
       "    .dataframe tbody tr th {\n",
       "        vertical-align: top;\n",
       "    }\n",
       "\n",
       "    .dataframe thead th {\n",
       "        text-align: right;\n",
       "    }\n",
       "</style>\n",
       "<table border=\"1\" class=\"dataframe\">\n",
       "  <thead>\n",
       "    <tr style=\"text-align: right;\">\n",
       "      <th></th>\n",
       "      <th>Price</th>\n",
       "      <th>rooms</th>\n",
       "      <th>price_per_m2</th>\n",
       "      <th>level</th>\n",
       "      <th>levels</th>\n",
       "      <th>year</th>\n",
       "      <th>area_total</th>\n",
       "      <th>area_living</th>\n",
       "      <th>area_kitchen</th>\n",
       "    </tr>\n",
       "  </thead>\n",
       "  <tbody>\n",
       "    <tr>\n",
       "      <th>count</th>\n",
       "      <td>7.280000e+02</td>\n",
       "      <td>7.240000e+02</td>\n",
       "      <td>7.230000e+02</td>\n",
       "      <td>7.030000e+02</td>\n",
       "      <td>7.030000e+02</td>\n",
       "      <td>5.400000e+02</td>\n",
       "      <td>6.400000e+02</td>\n",
       "      <td>4.970000e+02</td>\n",
       "      <td>5.240000e+02</td>\n",
       "    </tr>\n",
       "    <tr>\n",
       "      <th>mean</th>\n",
       "      <td>3.141565e-17</td>\n",
       "      <td>-1.680286e-16</td>\n",
       "      <td>-5.159543e-17</td>\n",
       "      <td>-7.896323e-18</td>\n",
       "      <td>6.064376e-17</td>\n",
       "      <td>3.598767e-15</td>\n",
       "      <td>1.353084e-16</td>\n",
       "      <td>-1.304568e-16</td>\n",
       "      <td>3.093369e-17</td>\n",
       "    </tr>\n",
       "    <tr>\n",
       "      <th>std</th>\n",
       "      <td>1.000688e+00</td>\n",
       "      <td>1.000691e+00</td>\n",
       "      <td>1.000692e+00</td>\n",
       "      <td>1.000712e+00</td>\n",
       "      <td>1.000712e+00</td>\n",
       "      <td>1.000927e+00</td>\n",
       "      <td>1.000782e+00</td>\n",
       "      <td>1.001008e+00</td>\n",
       "      <td>1.000956e+00</td>\n",
       "    </tr>\n",
       "    <tr>\n",
       "      <th>min</th>\n",
       "      <td>-2.817880e-01</td>\n",
       "      <td>-1.194879e+00</td>\n",
       "      <td>-2.734112e-01</td>\n",
       "      <td>-1.246201e+00</td>\n",
       "      <td>-1.857006e+00</td>\n",
       "      <td>-5.042791e+00</td>\n",
       "      <td>-1.270527e+00</td>\n",
       "      <td>-1.057653e+00</td>\n",
       "      <td>-1.283855e+00</td>\n",
       "    </tr>\n",
       "    <tr>\n",
       "      <th>25%</th>\n",
       "      <td>-2.003742e-01</td>\n",
       "      <td>-1.194879e+00</td>\n",
       "      <td>-1.599604e-01</td>\n",
       "      <td>-8.130704e-01</td>\n",
       "      <td>-1.028809e+00</td>\n",
       "      <td>-7.255530e-01</td>\n",
       "      <td>-5.856397e-01</td>\n",
       "      <td>-5.665106e-01</td>\n",
       "      <td>-5.861986e-01</td>\n",
       "    </tr>\n",
       "    <tr>\n",
       "      <th>50%</th>\n",
       "      <td>-1.426218e-01</td>\n",
       "      <td>-2.206758e-01</td>\n",
       "      <td>-8.958359e-02</td>\n",
       "      <td>-2.355624e-01</td>\n",
       "      <td>1.543297e-01</td>\n",
       "      <td>4.921296e-01</td>\n",
       "      <td>-2.236279e-01</td>\n",
       "      <td>-1.735964e-01</td>\n",
       "      <td>-1.875379e-01</td>\n",
       "    </tr>\n",
       "    <tr>\n",
       "      <th>75%</th>\n",
       "      <td>-4.468724e-02</td>\n",
       "      <td>7.535272e-01</td>\n",
       "      <td>1.657517e-02</td>\n",
       "      <td>6.306994e-01</td>\n",
       "      <td>8.642129e-01</td>\n",
       "      <td>7.135265e-01</td>\n",
       "      <td>2.411170e-01</td>\n",
       "      <td>2.520606e-01</td>\n",
       "      <td>2.111228e-01</td>\n",
       "    </tr>\n",
       "    <tr>\n",
       "      <th>max</th>\n",
       "      <td>2.298216e+01</td>\n",
       "      <td>4.650339e+00</td>\n",
       "      <td>2.627001e+01</td>\n",
       "      <td>3.373862e+00</td>\n",
       "      <td>3.467118e+00</td>\n",
       "      <td>8.980238e-01</td>\n",
       "      <td>8.611417e+00</td>\n",
       "      <td>9.092629e+00</td>\n",
       "      <td>6.191033e+00</td>\n",
       "    </tr>\n",
       "  </tbody>\n",
       "</table>\n",
       "</div>"
      ],
      "text/plain": [
       "              Price         rooms  price_per_m2         level        levels  \\\n",
       "count  7.280000e+02  7.240000e+02  7.230000e+02  7.030000e+02  7.030000e+02   \n",
       "mean   3.141565e-17 -1.680286e-16 -5.159543e-17 -7.896323e-18  6.064376e-17   \n",
       "std    1.000688e+00  1.000691e+00  1.000692e+00  1.000712e+00  1.000712e+00   \n",
       "min   -2.817880e-01 -1.194879e+00 -2.734112e-01 -1.246201e+00 -1.857006e+00   \n",
       "25%   -2.003742e-01 -1.194879e+00 -1.599604e-01 -8.130704e-01 -1.028809e+00   \n",
       "50%   -1.426218e-01 -2.206758e-01 -8.958359e-02 -2.355624e-01  1.543297e-01   \n",
       "75%   -4.468724e-02  7.535272e-01  1.657517e-02  6.306994e-01  8.642129e-01   \n",
       "max    2.298216e+01  4.650339e+00  2.627001e+01  3.373862e+00  3.467118e+00   \n",
       "\n",
       "               year    area_total   area_living  area_kitchen  \n",
       "count  5.400000e+02  6.400000e+02  4.970000e+02  5.240000e+02  \n",
       "mean   3.598767e-15  1.353084e-16 -1.304568e-16  3.093369e-17  \n",
       "std    1.000927e+00  1.000782e+00  1.001008e+00  1.000956e+00  \n",
       "min   -5.042791e+00 -1.270527e+00 -1.057653e+00 -1.283855e+00  \n",
       "25%   -7.255530e-01 -5.856397e-01 -5.665106e-01 -5.861986e-01  \n",
       "50%    4.921296e-01 -2.236279e-01 -1.735964e-01 -1.875379e-01  \n",
       "75%    7.135265e-01  2.411170e-01  2.520606e-01  2.111228e-01  \n",
       "max    8.980238e-01  8.611417e+00  9.092629e+00  6.191033e+00  "
      ]
     },
     "execution_count": 46,
     "metadata": {},
     "output_type": "execute_result"
    }
   ],
   "source": [
    "df_num_scaled.describe()\n"
   ]
  },
  {
   "cell_type": "markdown",
   "metadata": {
    "hidden": true
   },
   "source": [
    "### V. Заповнення пропусків для категоріальних показчиків\n",
    "\n",
    "__Примітка__: на цьому етапі слід\n",
    "1. Виділити датасет з категоріальними показчиками використовуючи `make_column_selector` з параметром `dtype_include='O'`\n",
    "2. Видилити колонку `publish_date` бо вона в цьому датасеті чисто інформативна\n",
    "3. Заповнити пусті (NaN) значення найближчими (`method='ffill'` в функції `fillna`)"
   ]
  },
  {
   "cell_type": "code",
   "execution_count": 47,
   "metadata": {
    "hidden": true,
    "scrolled": true
   },
   "outputs": [],
   "source": [
    "numeric_columns_selector = make_column_selector(dtype_include='O')\n",
    "df_cat = df.drop(columns=\"publish_date\")"
   ]
  },
  {
   "cell_type": "code",
   "execution_count": 48,
   "metadata": {},
   "outputs": [],
   "source": [
    "df_cat[\"area_living\"] = df_cat[\"area_living\"].fillna(method='ffill') \n",
    "df_cat[\"area_kitchen\"] = df_cat[\"area_kitchen\"].fillna(method='ffill')"
   ]
  },
  {
   "cell_type": "code",
   "execution_count": 49,
   "metadata": {},
   "outputs": [
    {
     "data": {
      "text/html": [
       "<div>\n",
       "<style scoped>\n",
       "    .dataframe tbody tr th:only-of-type {\n",
       "        vertical-align: middle;\n",
       "    }\n",
       "\n",
       "    .dataframe tbody tr th {\n",
       "        vertical-align: top;\n",
       "    }\n",
       "\n",
       "    .dataframe thead th {\n",
       "        text-align: right;\n",
       "    }\n",
       "</style>\n",
       "<table border=\"1\" class=\"dataframe\">\n",
       "  <thead>\n",
       "    <tr style=\"text-align: right;\">\n",
       "      <th></th>\n",
       "      <th>Price</th>\n",
       "      <th>rooms</th>\n",
       "      <th>price_per_m2</th>\n",
       "      <th>level</th>\n",
       "      <th>levels</th>\n",
       "      <th>year</th>\n",
       "      <th>area_total</th>\n",
       "      <th>area_living</th>\n",
       "      <th>area_kitchen</th>\n",
       "      <th>street</th>\n",
       "    </tr>\n",
       "  </thead>\n",
       "  <tbody>\n",
       "    <tr>\n",
       "      <th>0</th>\n",
       "      <td>140000.0</td>\n",
       "      <td>2.0</td>\n",
       "      <td>2258.0</td>\n",
       "      <td>7.0</td>\n",
       "      <td>9.0</td>\n",
       "      <td>1969.0</td>\n",
       "      <td>62.0</td>\n",
       "      <td>47.0</td>\n",
       "      <td>9.0</td>\n",
       "      <td>Омеляновича-Павленка</td>\n",
       "    </tr>\n",
       "    <tr>\n",
       "      <th>1</th>\n",
       "      <td>105000.0</td>\n",
       "      <td>4.0</td>\n",
       "      <td>847.0</td>\n",
       "      <td>25.0</td>\n",
       "      <td>26.0</td>\n",
       "      <td>2018.0</td>\n",
       "      <td>124.0</td>\n",
       "      <td>71.0</td>\n",
       "      <td>16.0</td>\n",
       "      <td>NaN</td>\n",
       "    </tr>\n",
       "    <tr>\n",
       "      <th>2</th>\n",
       "      <td>175000.0</td>\n",
       "      <td>3.0</td>\n",
       "      <td>1786.0</td>\n",
       "      <td>25.0</td>\n",
       "      <td>26.0</td>\n",
       "      <td>2010.0</td>\n",
       "      <td>98.0</td>\n",
       "      <td>71.0</td>\n",
       "      <td>16.0</td>\n",
       "      <td>Ованеса Туманяна</td>\n",
       "    </tr>\n",
       "    <tr>\n",
       "      <th>3</th>\n",
       "      <td>30970.0</td>\n",
       "      <td>1.0</td>\n",
       "      <td>1106.0</td>\n",
       "      <td>12.0</td>\n",
       "      <td>13.0</td>\n",
       "      <td>2013.0</td>\n",
       "      <td>28.0</td>\n",
       "      <td>13.0</td>\n",
       "      <td>5.0</td>\n",
       "      <td>Петропавлівська</td>\n",
       "    </tr>\n",
       "    <tr>\n",
       "      <th>4</th>\n",
       "      <td>82000.0</td>\n",
       "      <td>2.0</td>\n",
       "      <td>1281.0</td>\n",
       "      <td>18.0</td>\n",
       "      <td>26.0</td>\n",
       "      <td></td>\n",
       "      <td>64.0</td>\n",
       "      <td>13.0</td>\n",
       "      <td>5.0</td>\n",
       "      <td>Дніпровська</td>\n",
       "    </tr>\n",
       "    <tr>\n",
       "      <th>...</th>\n",
       "      <td>...</td>\n",
       "      <td>...</td>\n",
       "      <td>...</td>\n",
       "      <td>...</td>\n",
       "      <td>...</td>\n",
       "      <td>...</td>\n",
       "      <td>...</td>\n",
       "      <td>...</td>\n",
       "      <td>...</td>\n",
       "      <td>...</td>\n",
       "    </tr>\n",
       "    <tr>\n",
       "      <th>723</th>\n",
       "      <td>49990.0</td>\n",
       "      <td>3.0</td>\n",
       "      <td>757.0</td>\n",
       "      <td>8.0</td>\n",
       "      <td>9.0</td>\n",
       "      <td>1976.0</td>\n",
       "      <td>66.0</td>\n",
       "      <td>45.0</td>\n",
       "      <td>8.0</td>\n",
       "      <td>Наумова</td>\n",
       "    </tr>\n",
       "    <tr>\n",
       "      <th>724</th>\n",
       "      <td>89000.0</td>\n",
       "      <td>1.0</td>\n",
       "      <td>2342.0</td>\n",
       "      <td>7.0</td>\n",
       "      <td>15.0</td>\n",
       "      <td></td>\n",
       "      <td>38.0</td>\n",
       "      <td>20.0</td>\n",
       "      <td>7.0</td>\n",
       "      <td>Перемоги</td>\n",
       "    </tr>\n",
       "    <tr>\n",
       "      <th>725</th>\n",
       "      <td>170000.0</td>\n",
       "      <td>2.0</td>\n",
       "      <td>2656.0</td>\n",
       "      <td>5.0</td>\n",
       "      <td>7.0</td>\n",
       "      <td>1948.0</td>\n",
       "      <td>64.0</td>\n",
       "      <td>20.0</td>\n",
       "      <td>9.0</td>\n",
       "      <td>Велика Васильківська</td>\n",
       "    </tr>\n",
       "    <tr>\n",
       "      <th>726</th>\n",
       "      <td>29256.6</td>\n",
       "      <td>1.0</td>\n",
       "      <td>978.5</td>\n",
       "      <td>1.0</td>\n",
       "      <td>5.0</td>\n",
       "      <td></td>\n",
       "      <td>NaN</td>\n",
       "      <td>20.0</td>\n",
       "      <td>9.0</td>\n",
       "      <td>Червоноткацька</td>\n",
       "    </tr>\n",
       "    <tr>\n",
       "      <th>727</th>\n",
       "      <td>46500.0</td>\n",
       "      <td>2.0</td>\n",
       "      <td>1011.0</td>\n",
       "      <td>5.0</td>\n",
       "      <td>5.0</td>\n",
       "      <td>1963.0</td>\n",
       "      <td>46.0</td>\n",
       "      <td>31.0</td>\n",
       "      <td>7.0</td>\n",
       "      <td>Вишгородська</td>\n",
       "    </tr>\n",
       "  </tbody>\n",
       "</table>\n",
       "<p>728 rows × 10 columns</p>\n",
       "</div>"
      ],
      "text/plain": [
       "        Price  rooms  price_per_m2  level  levels    year  area_total  \\\n",
       "0    140000.0    2.0        2258.0    7.0     9.0  1969.0        62.0   \n",
       "1    105000.0    4.0         847.0   25.0    26.0  2018.0       124.0   \n",
       "2    175000.0    3.0        1786.0   25.0    26.0  2010.0        98.0   \n",
       "3     30970.0    1.0        1106.0   12.0    13.0  2013.0        28.0   \n",
       "4     82000.0    2.0        1281.0   18.0    26.0                64.0   \n",
       "..        ...    ...           ...    ...     ...     ...         ...   \n",
       "723   49990.0    3.0         757.0    8.0     9.0  1976.0        66.0   \n",
       "724   89000.0    1.0        2342.0    7.0    15.0                38.0   \n",
       "725  170000.0    2.0        2656.0    5.0     7.0  1948.0        64.0   \n",
       "726   29256.6    1.0         978.5    1.0     5.0                 NaN   \n",
       "727   46500.0    2.0        1011.0    5.0     5.0  1963.0        46.0   \n",
       "\n",
       "     area_living  area_kitchen                street  \n",
       "0           47.0           9.0  Омеляновича-Павленка  \n",
       "1           71.0          16.0                   NaN  \n",
       "2           71.0          16.0      Ованеса Туманяна  \n",
       "3           13.0           5.0       Петропавлівська  \n",
       "4           13.0           5.0           Дніпровська  \n",
       "..           ...           ...                   ...  \n",
       "723         45.0           8.0               Наумова  \n",
       "724         20.0           7.0              Перемоги  \n",
       "725         20.0           9.0  Велика Васильківська  \n",
       "726         20.0           9.0        Червоноткацька  \n",
       "727         31.0           7.0          Вишгородська  \n",
       "\n",
       "[728 rows x 10 columns]"
      ]
     },
     "execution_count": 49,
     "metadata": {},
     "output_type": "execute_result"
    }
   ],
   "source": [
    "df_cat"
   ]
  },
  {
   "cell_type": "markdown",
   "metadata": {
    "hidden": true
   },
   "source": [
    "### VI. Кодування категориальних показчиків\n",
    "\n",
    "__Примітка__: на цьому етапі слід побудувати датасет `df_cat_encoded` використавши функцію  `fit_transform` модуля __`OneHotEncoder`__\n"
   ]
  },
  {
   "cell_type": "code",
   "execution_count": 51,
   "metadata": {
    "hidden": true
   },
   "outputs": [],
   "source": [
    "from sklearn.preprocessing import OneHotEncoder\n",
    "encoder = OneHotEncoder(handle_unknown='ignore', sparse=False)"
   ]
  },
  {
   "cell_type": "code",
   "execution_count": 54,
   "metadata": {},
   "outputs": [],
   "source": [
    "categorical = pd.read_csv('aprt_properties.csv')"
   ]
  },
  {
   "cell_type": "code",
   "execution_count": 56,
   "metadata": {
    "hidden": true
   },
   "outputs": [
    {
     "data": {
      "text/html": [
       "<div>\n",
       "<style scoped>\n",
       "    .dataframe tbody tr th:only-of-type {\n",
       "        vertical-align: middle;\n",
       "    }\n",
       "\n",
       "    .dataframe tbody tr th {\n",
       "        vertical-align: top;\n",
       "    }\n",
       "\n",
       "    .dataframe thead th {\n",
       "        text-align: right;\n",
       "    }\n",
       "</style>\n",
       "<table border=\"1\" class=\"dataframe\">\n",
       "  <thead>\n",
       "    <tr style=\"text-align: right;\">\n",
       "      <th></th>\n",
       "      <th>Price</th>\n",
       "      <th>rooms</th>\n",
       "      <th>price_per_m2</th>\n",
       "      <th>level</th>\n",
       "      <th>levels</th>\n",
       "      <th>year</th>\n",
       "      <th>area_total</th>\n",
       "      <th>area_living</th>\n",
       "      <th>area_kitchen</th>\n",
       "    </tr>\n",
       "  </thead>\n",
       "  <tbody>\n",
       "    <tr>\n",
       "      <th>0</th>\n",
       "      <td>-0.089169</td>\n",
       "      <td>-0.220676</td>\n",
       "      <td>0.028446</td>\n",
       "      <td>-0.379939</td>\n",
       "      <td>-1.028809</td>\n",
       "      <td>-1.020749</td>\n",
       "      <td>-0.350821</td>\n",
       "      <td>0.153832</td>\n",
       "      <td>-0.685864</td>\n",
       "    </tr>\n",
       "    <tr>\n",
       "      <th>1</th>\n",
       "      <td>-0.141065</td>\n",
       "      <td>1.727730</td>\n",
       "      <td>-0.210835</td>\n",
       "      <td>2.218846</td>\n",
       "      <td>0.982527</td>\n",
       "      <td>0.787325</td>\n",
       "      <td>0.862407</td>\n",
       "      <td>0.939660</td>\n",
       "      <td>0.011792</td>\n",
       "    </tr>\n",
       "    <tr>\n",
       "      <th>2</th>\n",
       "      <td>-0.037274</td>\n",
       "      <td>0.753527</td>\n",
       "      <td>-0.051597</td>\n",
       "      <td>2.218846</td>\n",
       "      <td>0.982527</td>\n",
       "      <td>0.492130</td>\n",
       "      <td>0.353634</td>\n",
       "      <td>NaN</td>\n",
       "      <td>NaN</td>\n",
       "    </tr>\n",
       "    <tr>\n",
       "      <th>3</th>\n",
       "      <td>-0.250832</td>\n",
       "      <td>-1.194879</td>\n",
       "      <td>-0.166913</td>\n",
       "      <td>0.341945</td>\n",
       "      <td>-0.555553</td>\n",
       "      <td>0.602828</td>\n",
       "      <td>-1.016140</td>\n",
       "      <td>-0.959425</td>\n",
       "      <td>-1.084525</td>\n",
       "    </tr>\n",
       "    <tr>\n",
       "      <th>4</th>\n",
       "      <td>-0.175168</td>\n",
       "      <td>-0.220676</td>\n",
       "      <td>-0.137236</td>\n",
       "      <td>1.208207</td>\n",
       "      <td>0.982527</td>\n",
       "      <td>NaN</td>\n",
       "      <td>-0.311685</td>\n",
       "      <td>NaN</td>\n",
       "      <td>NaN</td>\n",
       "    </tr>\n",
       "    <tr>\n",
       "      <th>...</th>\n",
       "      <td>...</td>\n",
       "      <td>...</td>\n",
       "      <td>...</td>\n",
       "      <td>...</td>\n",
       "      <td>...</td>\n",
       "      <td>...</td>\n",
       "      <td>...</td>\n",
       "      <td>...</td>\n",
       "      <td>...</td>\n",
       "    </tr>\n",
       "    <tr>\n",
       "      <th>723</th>\n",
       "      <td>-0.222630</td>\n",
       "      <td>0.753527</td>\n",
       "      <td>-0.226098</td>\n",
       "      <td>-0.235562</td>\n",
       "      <td>-1.028809</td>\n",
       "      <td>-0.762452</td>\n",
       "      <td>-0.272548</td>\n",
       "      <td>0.088346</td>\n",
       "      <td>-0.785529</td>\n",
       "    </tr>\n",
       "    <tr>\n",
       "      <th>724</th>\n",
       "      <td>-0.164789</td>\n",
       "      <td>-1.194879</td>\n",
       "      <td>0.042691</td>\n",
       "      <td>-0.379939</td>\n",
       "      <td>-0.318926</td>\n",
       "      <td>NaN</td>\n",
       "      <td>-0.820458</td>\n",
       "      <td>-0.730225</td>\n",
       "      <td>-0.885194</td>\n",
       "    </tr>\n",
       "    <tr>\n",
       "      <th>725</th>\n",
       "      <td>-0.044687</td>\n",
       "      <td>-0.220676</td>\n",
       "      <td>0.095940</td>\n",
       "      <td>-0.668693</td>\n",
       "      <td>-1.265437</td>\n",
       "      <td>-1.795638</td>\n",
       "      <td>-0.311685</td>\n",
       "      <td>NaN</td>\n",
       "      <td>-0.685864</td>\n",
       "    </tr>\n",
       "    <tr>\n",
       "      <th>726</th>\n",
       "      <td>-0.253372</td>\n",
       "      <td>-1.194879</td>\n",
       "      <td>-0.188535</td>\n",
       "      <td>-1.246201</td>\n",
       "      <td>-1.502064</td>\n",
       "      <td>NaN</td>\n",
       "      <td>NaN</td>\n",
       "      <td>NaN</td>\n",
       "      <td>NaN</td>\n",
       "    </tr>\n",
       "    <tr>\n",
       "      <th>727</th>\n",
       "      <td>-0.227805</td>\n",
       "      <td>-0.220676</td>\n",
       "      <td>-0.183024</td>\n",
       "      <td>-0.668693</td>\n",
       "      <td>-1.502064</td>\n",
       "      <td>-1.242146</td>\n",
       "      <td>-0.663913</td>\n",
       "      <td>-0.370053</td>\n",
       "      <td>-0.885194</td>\n",
       "    </tr>\n",
       "  </tbody>\n",
       "</table>\n",
       "<p>728 rows × 9 columns</p>\n",
       "</div>"
      ],
      "text/plain": [
       "        Price     rooms  price_per_m2     level    levels      year  \\\n",
       "0   -0.089169 -0.220676      0.028446 -0.379939 -1.028809 -1.020749   \n",
       "1   -0.141065  1.727730     -0.210835  2.218846  0.982527  0.787325   \n",
       "2   -0.037274  0.753527     -0.051597  2.218846  0.982527  0.492130   \n",
       "3   -0.250832 -1.194879     -0.166913  0.341945 -0.555553  0.602828   \n",
       "4   -0.175168 -0.220676     -0.137236  1.208207  0.982527       NaN   \n",
       "..        ...       ...           ...       ...       ...       ...   \n",
       "723 -0.222630  0.753527     -0.226098 -0.235562 -1.028809 -0.762452   \n",
       "724 -0.164789 -1.194879      0.042691 -0.379939 -0.318926       NaN   \n",
       "725 -0.044687 -0.220676      0.095940 -0.668693 -1.265437 -1.795638   \n",
       "726 -0.253372 -1.194879     -0.188535 -1.246201 -1.502064       NaN   \n",
       "727 -0.227805 -0.220676     -0.183024 -0.668693 -1.502064 -1.242146   \n",
       "\n",
       "     area_total  area_living  area_kitchen  \n",
       "0     -0.350821     0.153832     -0.685864  \n",
       "1      0.862407     0.939660      0.011792  \n",
       "2      0.353634          NaN           NaN  \n",
       "3     -1.016140    -0.959425     -1.084525  \n",
       "4     -0.311685          NaN           NaN  \n",
       "..          ...          ...           ...  \n",
       "723   -0.272548     0.088346     -0.785529  \n",
       "724   -0.820458    -0.730225     -0.885194  \n",
       "725   -0.311685          NaN     -0.685864  \n",
       "726         NaN          NaN           NaN  \n",
       "727   -0.663913    -0.370053     -0.885194  \n",
       "\n",
       "[728 rows x 9 columns]"
      ]
     },
     "execution_count": 56,
     "metadata": {},
     "output_type": "execute_result"
    }
   ],
   "source": [
    "encoder.fit_transform(categorical)\n",
    "df_cat_encoded = encoder.fit_transform(categorical)\n",
    "df_cat_encoded = encoder.transform(categorical)\n",
    "df_cat_encoded = pd.DataFrame(scaler.transform(df_num), columns=df_num_col)\n",
    "df_cat_encoded\n"
   ]
  },
  {
   "cell_type": "markdown",
   "metadata": {
    "hidden": true
   },
   "source": [
    "### VII. Формування результатного датасету\n",
    "\n",
    "__Примітка__: на цьому етапі слід об'єднати змаштабований чисельний (`df_num_scaled`) та кодований категоріальний (`df_cat_encoded`) датасети в один результатний `df_result` використавши функцію `concat`"
   ]
  },
  {
   "cell_type": "code",
   "execution_count": 57,
   "metadata": {
    "hidden": true,
    "scrolled": true
   },
   "outputs": [
    {
     "data": {
      "text/html": [
       "<div>\n",
       "<style scoped>\n",
       "    .dataframe tbody tr th:only-of-type {\n",
       "        vertical-align: middle;\n",
       "    }\n",
       "\n",
       "    .dataframe tbody tr th {\n",
       "        vertical-align: top;\n",
       "    }\n",
       "\n",
       "    .dataframe thead th {\n",
       "        text-align: right;\n",
       "    }\n",
       "</style>\n",
       "<table border=\"1\" class=\"dataframe\">\n",
       "  <thead>\n",
       "    <tr style=\"text-align: right;\">\n",
       "      <th></th>\n",
       "      <th>Price</th>\n",
       "      <th>rooms</th>\n",
       "      <th>price_per_m2</th>\n",
       "      <th>level</th>\n",
       "      <th>levels</th>\n",
       "      <th>year</th>\n",
       "      <th>area_total</th>\n",
       "      <th>area_living</th>\n",
       "      <th>area_kitchen</th>\n",
       "    </tr>\n",
       "  </thead>\n",
       "  <tbody>\n",
       "    <tr>\n",
       "      <th>0</th>\n",
       "      <td>-0.089169</td>\n",
       "      <td>-0.220676</td>\n",
       "      <td>0.028446</td>\n",
       "      <td>-0.379939</td>\n",
       "      <td>-1.028809</td>\n",
       "      <td>-1.020749</td>\n",
       "      <td>-0.350821</td>\n",
       "      <td>0.153832</td>\n",
       "      <td>-0.685864</td>\n",
       "    </tr>\n",
       "    <tr>\n",
       "      <th>1</th>\n",
       "      <td>-0.141065</td>\n",
       "      <td>1.727730</td>\n",
       "      <td>-0.210835</td>\n",
       "      <td>2.218846</td>\n",
       "      <td>0.982527</td>\n",
       "      <td>0.787325</td>\n",
       "      <td>0.862407</td>\n",
       "      <td>0.939660</td>\n",
       "      <td>0.011792</td>\n",
       "    </tr>\n",
       "    <tr>\n",
       "      <th>2</th>\n",
       "      <td>-0.037274</td>\n",
       "      <td>0.753527</td>\n",
       "      <td>-0.051597</td>\n",
       "      <td>2.218846</td>\n",
       "      <td>0.982527</td>\n",
       "      <td>0.492130</td>\n",
       "      <td>0.353634</td>\n",
       "      <td>NaN</td>\n",
       "      <td>NaN</td>\n",
       "    </tr>\n",
       "    <tr>\n",
       "      <th>3</th>\n",
       "      <td>-0.250832</td>\n",
       "      <td>-1.194879</td>\n",
       "      <td>-0.166913</td>\n",
       "      <td>0.341945</td>\n",
       "      <td>-0.555553</td>\n",
       "      <td>0.602828</td>\n",
       "      <td>-1.016140</td>\n",
       "      <td>-0.959425</td>\n",
       "      <td>-1.084525</td>\n",
       "    </tr>\n",
       "    <tr>\n",
       "      <th>4</th>\n",
       "      <td>-0.175168</td>\n",
       "      <td>-0.220676</td>\n",
       "      <td>-0.137236</td>\n",
       "      <td>1.208207</td>\n",
       "      <td>0.982527</td>\n",
       "      <td>NaN</td>\n",
       "      <td>-0.311685</td>\n",
       "      <td>NaN</td>\n",
       "      <td>NaN</td>\n",
       "    </tr>\n",
       "    <tr>\n",
       "      <th>...</th>\n",
       "      <td>...</td>\n",
       "      <td>...</td>\n",
       "      <td>...</td>\n",
       "      <td>...</td>\n",
       "      <td>...</td>\n",
       "      <td>...</td>\n",
       "      <td>...</td>\n",
       "      <td>...</td>\n",
       "      <td>...</td>\n",
       "    </tr>\n",
       "    <tr>\n",
       "      <th>723</th>\n",
       "      <td>-0.222630</td>\n",
       "      <td>0.753527</td>\n",
       "      <td>-0.226098</td>\n",
       "      <td>-0.235562</td>\n",
       "      <td>-1.028809</td>\n",
       "      <td>-0.762452</td>\n",
       "      <td>-0.272548</td>\n",
       "      <td>0.088346</td>\n",
       "      <td>-0.785529</td>\n",
       "    </tr>\n",
       "    <tr>\n",
       "      <th>724</th>\n",
       "      <td>-0.164789</td>\n",
       "      <td>-1.194879</td>\n",
       "      <td>0.042691</td>\n",
       "      <td>-0.379939</td>\n",
       "      <td>-0.318926</td>\n",
       "      <td>NaN</td>\n",
       "      <td>-0.820458</td>\n",
       "      <td>-0.730225</td>\n",
       "      <td>-0.885194</td>\n",
       "    </tr>\n",
       "    <tr>\n",
       "      <th>725</th>\n",
       "      <td>-0.044687</td>\n",
       "      <td>-0.220676</td>\n",
       "      <td>0.095940</td>\n",
       "      <td>-0.668693</td>\n",
       "      <td>-1.265437</td>\n",
       "      <td>-1.795638</td>\n",
       "      <td>-0.311685</td>\n",
       "      <td>NaN</td>\n",
       "      <td>-0.685864</td>\n",
       "    </tr>\n",
       "    <tr>\n",
       "      <th>726</th>\n",
       "      <td>-0.253372</td>\n",
       "      <td>-1.194879</td>\n",
       "      <td>-0.188535</td>\n",
       "      <td>-1.246201</td>\n",
       "      <td>-1.502064</td>\n",
       "      <td>NaN</td>\n",
       "      <td>NaN</td>\n",
       "      <td>NaN</td>\n",
       "      <td>NaN</td>\n",
       "    </tr>\n",
       "    <tr>\n",
       "      <th>727</th>\n",
       "      <td>-0.227805</td>\n",
       "      <td>-0.220676</td>\n",
       "      <td>-0.183024</td>\n",
       "      <td>-0.668693</td>\n",
       "      <td>-1.502064</td>\n",
       "      <td>-1.242146</td>\n",
       "      <td>-0.663913</td>\n",
       "      <td>-0.370053</td>\n",
       "      <td>-0.885194</td>\n",
       "    </tr>\n",
       "  </tbody>\n",
       "</table>\n",
       "<p>1456 rows × 9 columns</p>\n",
       "</div>"
      ],
      "text/plain": [
       "        Price     rooms  price_per_m2     level    levels      year  \\\n",
       "0   -0.089169 -0.220676      0.028446 -0.379939 -1.028809 -1.020749   \n",
       "1   -0.141065  1.727730     -0.210835  2.218846  0.982527  0.787325   \n",
       "2   -0.037274  0.753527     -0.051597  2.218846  0.982527  0.492130   \n",
       "3   -0.250832 -1.194879     -0.166913  0.341945 -0.555553  0.602828   \n",
       "4   -0.175168 -0.220676     -0.137236  1.208207  0.982527       NaN   \n",
       "..        ...       ...           ...       ...       ...       ...   \n",
       "723 -0.222630  0.753527     -0.226098 -0.235562 -1.028809 -0.762452   \n",
       "724 -0.164789 -1.194879      0.042691 -0.379939 -0.318926       NaN   \n",
       "725 -0.044687 -0.220676      0.095940 -0.668693 -1.265437 -1.795638   \n",
       "726 -0.253372 -1.194879     -0.188535 -1.246201 -1.502064       NaN   \n",
       "727 -0.227805 -0.220676     -0.183024 -0.668693 -1.502064 -1.242146   \n",
       "\n",
       "     area_total  area_living  area_kitchen  \n",
       "0     -0.350821     0.153832     -0.685864  \n",
       "1      0.862407     0.939660      0.011792  \n",
       "2      0.353634          NaN           NaN  \n",
       "3     -1.016140    -0.959425     -1.084525  \n",
       "4     -0.311685          NaN           NaN  \n",
       "..          ...          ...           ...  \n",
       "723   -0.272548     0.088346     -0.785529  \n",
       "724   -0.820458    -0.730225     -0.885194  \n",
       "725   -0.311685          NaN     -0.685864  \n",
       "726         NaN          NaN           NaN  \n",
       "727   -0.663913    -0.370053     -0.885194  \n",
       "\n",
       "[1456 rows x 9 columns]"
      ]
     },
     "execution_count": 57,
     "metadata": {},
     "output_type": "execute_result"
    }
   ],
   "source": [
    "df_result = pd.concat([df_num_scaled, df_cat_encoded])\n",
    "df_result"
   ]
  },
  {
   "cell_type": "code",
   "execution_count": null,
   "metadata": {},
   "outputs": [],
   "source": []
  }
 ],
 "metadata": {
  "kernelspec": {
   "display_name": "Python 3 (ipykernel)",
   "language": "python",
   "name": "python3"
  },
  "language_info": {
   "codemirror_mode": {
    "name": "ipython",
    "version": 3
   },
   "file_extension": ".py",
   "mimetype": "text/x-python",
   "name": "python",
   "nbconvert_exporter": "python",
   "pygments_lexer": "ipython3",
   "version": "3.9.13"
  },
  "varInspector": {
   "cols": {
    "lenName": 16,
    "lenType": 16,
    "lenVar": 40
   },
   "kernels_config": {
    "python": {
     "delete_cmd_postfix": "",
     "delete_cmd_prefix": "del ",
     "library": "var_list.py",
     "varRefreshCmd": "print(var_dic_list())"
    },
    "r": {
     "delete_cmd_postfix": ") ",
     "delete_cmd_prefix": "rm(",
     "library": "var_list.r",
     "varRefreshCmd": "cat(var_dic_list()) "
    }
   },
   "types_to_exclude": [
    "module",
    "function",
    "builtin_function_or_method",
    "instance",
    "_Feature"
   ],
   "window_display": false
  }
 },
 "nbformat": 4,
 "nbformat_minor": 2
}
